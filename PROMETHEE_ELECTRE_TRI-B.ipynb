{
 "cells": [
  {
   "cell_type": "code",
   "execution_count": 65,
   "id": "b07aad7b",
   "metadata": {},
   "outputs": [
    {
     "data": {
      "application/vnd.plotly.v1+json": {
       "config": {
        "plotlyServerURL": "https://plot.ly"
       },
       "data": [
        {
         "dimensions": [
          {
           "label": "mpg",
           "values": [
            24,
            36,
            34.1,
            26.8,
            36,
            15,
            15,
            37,
            26,
            27.2,
            27.2,
            16,
            25,
            27.9,
            39.4
           ]
          },
          {
           "label": "horsepower",
           "values": [
            110,
            75,
            65,
            115,
            84,
            145,
            145,
            92,
            93,
            71,
            97,
            110,
            71,
            105,
            70
           ]
          },
          {
           "label": "weight",
           "values": [
            2660,
            2205,
            1975,
            2700,
            2370,
            4082,
            4440,
            2434,
            2391,
            3190,
            2300,
            3632,
            2223,
            2800,
            2070
           ]
          },
          {
           "label": "acceleration",
           "values": [
            14,
            14.5,
            15.2,
            12.9,
            13,
            13,
            14,
            15,
            15.5,
            24.8,
            14.7,
            18,
            16.5,
            14.4,
            18.6
           ]
          },
          {
           "label": "price",
           "values": [
            30000,
            30000,
            20000,
            45923.53551,
            17421.6269,
            26355.63972,
            8844.146509,
            47697.07716,
            26414.50827,
            24639.37404,
            35110.41972,
            35815.10738,
            34295.65704,
            52035.83362,
            40000
           ]
          }
         ],
         "domain": {
          "x": [
           0,
           1
          ],
          "y": [
           0,
           1
          ]
         },
         "name": "",
         "type": "parcoords"
        }
       ],
       "layout": {
        "legend": {
         "tracegroupgap": 0
        },
        "margin": {
         "t": 60
        },
        "template": {
         "data": {
          "bar": [
           {
            "error_x": {
             "color": "#2a3f5f"
            },
            "error_y": {
             "color": "#2a3f5f"
            },
            "marker": {
             "line": {
              "color": "#E5ECF6",
              "width": 0.5
             },
             "pattern": {
              "fillmode": "overlay",
              "size": 10,
              "solidity": 0.2
             }
            },
            "type": "bar"
           }
          ],
          "barpolar": [
           {
            "marker": {
             "line": {
              "color": "#E5ECF6",
              "width": 0.5
             },
             "pattern": {
              "fillmode": "overlay",
              "size": 10,
              "solidity": 0.2
             }
            },
            "type": "barpolar"
           }
          ],
          "carpet": [
           {
            "aaxis": {
             "endlinecolor": "#2a3f5f",
             "gridcolor": "white",
             "linecolor": "white",
             "minorgridcolor": "white",
             "startlinecolor": "#2a3f5f"
            },
            "baxis": {
             "endlinecolor": "#2a3f5f",
             "gridcolor": "white",
             "linecolor": "white",
             "minorgridcolor": "white",
             "startlinecolor": "#2a3f5f"
            },
            "type": "carpet"
           }
          ],
          "choropleth": [
           {
            "colorbar": {
             "outlinewidth": 0,
             "ticks": ""
            },
            "type": "choropleth"
           }
          ],
          "contour": [
           {
            "colorbar": {
             "outlinewidth": 0,
             "ticks": ""
            },
            "colorscale": [
             [
              0,
              "#0d0887"
             ],
             [
              0.1111111111111111,
              "#46039f"
             ],
             [
              0.2222222222222222,
              "#7201a8"
             ],
             [
              0.3333333333333333,
              "#9c179e"
             ],
             [
              0.4444444444444444,
              "#bd3786"
             ],
             [
              0.5555555555555556,
              "#d8576b"
             ],
             [
              0.6666666666666666,
              "#ed7953"
             ],
             [
              0.7777777777777778,
              "#fb9f3a"
             ],
             [
              0.8888888888888888,
              "#fdca26"
             ],
             [
              1,
              "#f0f921"
             ]
            ],
            "type": "contour"
           }
          ],
          "contourcarpet": [
           {
            "colorbar": {
             "outlinewidth": 0,
             "ticks": ""
            },
            "type": "contourcarpet"
           }
          ],
          "heatmap": [
           {
            "colorbar": {
             "outlinewidth": 0,
             "ticks": ""
            },
            "colorscale": [
             [
              0,
              "#0d0887"
             ],
             [
              0.1111111111111111,
              "#46039f"
             ],
             [
              0.2222222222222222,
              "#7201a8"
             ],
             [
              0.3333333333333333,
              "#9c179e"
             ],
             [
              0.4444444444444444,
              "#bd3786"
             ],
             [
              0.5555555555555556,
              "#d8576b"
             ],
             [
              0.6666666666666666,
              "#ed7953"
             ],
             [
              0.7777777777777778,
              "#fb9f3a"
             ],
             [
              0.8888888888888888,
              "#fdca26"
             ],
             [
              1,
              "#f0f921"
             ]
            ],
            "type": "heatmap"
           }
          ],
          "heatmapgl": [
           {
            "colorbar": {
             "outlinewidth": 0,
             "ticks": ""
            },
            "colorscale": [
             [
              0,
              "#0d0887"
             ],
             [
              0.1111111111111111,
              "#46039f"
             ],
             [
              0.2222222222222222,
              "#7201a8"
             ],
             [
              0.3333333333333333,
              "#9c179e"
             ],
             [
              0.4444444444444444,
              "#bd3786"
             ],
             [
              0.5555555555555556,
              "#d8576b"
             ],
             [
              0.6666666666666666,
              "#ed7953"
             ],
             [
              0.7777777777777778,
              "#fb9f3a"
             ],
             [
              0.8888888888888888,
              "#fdca26"
             ],
             [
              1,
              "#f0f921"
             ]
            ],
            "type": "heatmapgl"
           }
          ],
          "histogram": [
           {
            "marker": {
             "pattern": {
              "fillmode": "overlay",
              "size": 10,
              "solidity": 0.2
             }
            },
            "type": "histogram"
           }
          ],
          "histogram2d": [
           {
            "colorbar": {
             "outlinewidth": 0,
             "ticks": ""
            },
            "colorscale": [
             [
              0,
              "#0d0887"
             ],
             [
              0.1111111111111111,
              "#46039f"
             ],
             [
              0.2222222222222222,
              "#7201a8"
             ],
             [
              0.3333333333333333,
              "#9c179e"
             ],
             [
              0.4444444444444444,
              "#bd3786"
             ],
             [
              0.5555555555555556,
              "#d8576b"
             ],
             [
              0.6666666666666666,
              "#ed7953"
             ],
             [
              0.7777777777777778,
              "#fb9f3a"
             ],
             [
              0.8888888888888888,
              "#fdca26"
             ],
             [
              1,
              "#f0f921"
             ]
            ],
            "type": "histogram2d"
           }
          ],
          "histogram2dcontour": [
           {
            "colorbar": {
             "outlinewidth": 0,
             "ticks": ""
            },
            "colorscale": [
             [
              0,
              "#0d0887"
             ],
             [
              0.1111111111111111,
              "#46039f"
             ],
             [
              0.2222222222222222,
              "#7201a8"
             ],
             [
              0.3333333333333333,
              "#9c179e"
             ],
             [
              0.4444444444444444,
              "#bd3786"
             ],
             [
              0.5555555555555556,
              "#d8576b"
             ],
             [
              0.6666666666666666,
              "#ed7953"
             ],
             [
              0.7777777777777778,
              "#fb9f3a"
             ],
             [
              0.8888888888888888,
              "#fdca26"
             ],
             [
              1,
              "#f0f921"
             ]
            ],
            "type": "histogram2dcontour"
           }
          ],
          "mesh3d": [
           {
            "colorbar": {
             "outlinewidth": 0,
             "ticks": ""
            },
            "type": "mesh3d"
           }
          ],
          "parcoords": [
           {
            "line": {
             "colorbar": {
              "outlinewidth": 0,
              "ticks": ""
             }
            },
            "type": "parcoords"
           }
          ],
          "pie": [
           {
            "automargin": true,
            "type": "pie"
           }
          ],
          "scatter": [
           {
            "fillpattern": {
             "fillmode": "overlay",
             "size": 10,
             "solidity": 0.2
            },
            "type": "scatter"
           }
          ],
          "scatter3d": [
           {
            "line": {
             "colorbar": {
              "outlinewidth": 0,
              "ticks": ""
             }
            },
            "marker": {
             "colorbar": {
              "outlinewidth": 0,
              "ticks": ""
             }
            },
            "type": "scatter3d"
           }
          ],
          "scattercarpet": [
           {
            "marker": {
             "colorbar": {
              "outlinewidth": 0,
              "ticks": ""
             }
            },
            "type": "scattercarpet"
           }
          ],
          "scattergeo": [
           {
            "marker": {
             "colorbar": {
              "outlinewidth": 0,
              "ticks": ""
             }
            },
            "type": "scattergeo"
           }
          ],
          "scattergl": [
           {
            "marker": {
             "colorbar": {
              "outlinewidth": 0,
              "ticks": ""
             }
            },
            "type": "scattergl"
           }
          ],
          "scattermapbox": [
           {
            "marker": {
             "colorbar": {
              "outlinewidth": 0,
              "ticks": ""
             }
            },
            "type": "scattermapbox"
           }
          ],
          "scatterpolar": [
           {
            "marker": {
             "colorbar": {
              "outlinewidth": 0,
              "ticks": ""
             }
            },
            "type": "scatterpolar"
           }
          ],
          "scatterpolargl": [
           {
            "marker": {
             "colorbar": {
              "outlinewidth": 0,
              "ticks": ""
             }
            },
            "type": "scatterpolargl"
           }
          ],
          "scatterternary": [
           {
            "marker": {
             "colorbar": {
              "outlinewidth": 0,
              "ticks": ""
             }
            },
            "type": "scatterternary"
           }
          ],
          "surface": [
           {
            "colorbar": {
             "outlinewidth": 0,
             "ticks": ""
            },
            "colorscale": [
             [
              0,
              "#0d0887"
             ],
             [
              0.1111111111111111,
              "#46039f"
             ],
             [
              0.2222222222222222,
              "#7201a8"
             ],
             [
              0.3333333333333333,
              "#9c179e"
             ],
             [
              0.4444444444444444,
              "#bd3786"
             ],
             [
              0.5555555555555556,
              "#d8576b"
             ],
             [
              0.6666666666666666,
              "#ed7953"
             ],
             [
              0.7777777777777778,
              "#fb9f3a"
             ],
             [
              0.8888888888888888,
              "#fdca26"
             ],
             [
              1,
              "#f0f921"
             ]
            ],
            "type": "surface"
           }
          ],
          "table": [
           {
            "cells": {
             "fill": {
              "color": "#EBF0F8"
             },
             "line": {
              "color": "white"
             }
            },
            "header": {
             "fill": {
              "color": "#C8D4E3"
             },
             "line": {
              "color": "white"
             }
            },
            "type": "table"
           }
          ]
         },
         "layout": {
          "annotationdefaults": {
           "arrowcolor": "#2a3f5f",
           "arrowhead": 0,
           "arrowwidth": 1
          },
          "autotypenumbers": "strict",
          "coloraxis": {
           "colorbar": {
            "outlinewidth": 0,
            "ticks": ""
           }
          },
          "colorscale": {
           "diverging": [
            [
             0,
             "#8e0152"
            ],
            [
             0.1,
             "#c51b7d"
            ],
            [
             0.2,
             "#de77ae"
            ],
            [
             0.3,
             "#f1b6da"
            ],
            [
             0.4,
             "#fde0ef"
            ],
            [
             0.5,
             "#f7f7f7"
            ],
            [
             0.6,
             "#e6f5d0"
            ],
            [
             0.7,
             "#b8e186"
            ],
            [
             0.8,
             "#7fbc41"
            ],
            [
             0.9,
             "#4d9221"
            ],
            [
             1,
             "#276419"
            ]
           ],
           "sequential": [
            [
             0,
             "#0d0887"
            ],
            [
             0.1111111111111111,
             "#46039f"
            ],
            [
             0.2222222222222222,
             "#7201a8"
            ],
            [
             0.3333333333333333,
             "#9c179e"
            ],
            [
             0.4444444444444444,
             "#bd3786"
            ],
            [
             0.5555555555555556,
             "#d8576b"
            ],
            [
             0.6666666666666666,
             "#ed7953"
            ],
            [
             0.7777777777777778,
             "#fb9f3a"
            ],
            [
             0.8888888888888888,
             "#fdca26"
            ],
            [
             1,
             "#f0f921"
            ]
           ],
           "sequentialminus": [
            [
             0,
             "#0d0887"
            ],
            [
             0.1111111111111111,
             "#46039f"
            ],
            [
             0.2222222222222222,
             "#7201a8"
            ],
            [
             0.3333333333333333,
             "#9c179e"
            ],
            [
             0.4444444444444444,
             "#bd3786"
            ],
            [
             0.5555555555555556,
             "#d8576b"
            ],
            [
             0.6666666666666666,
             "#ed7953"
            ],
            [
             0.7777777777777778,
             "#fb9f3a"
            ],
            [
             0.8888888888888888,
             "#fdca26"
            ],
            [
             1,
             "#f0f921"
            ]
           ]
          },
          "colorway": [
           "#636efa",
           "#EF553B",
           "#00cc96",
           "#ab63fa",
           "#FFA15A",
           "#19d3f3",
           "#FF6692",
           "#B6E880",
           "#FF97FF",
           "#FECB52"
          ],
          "font": {
           "color": "#2a3f5f"
          },
          "geo": {
           "bgcolor": "white",
           "lakecolor": "white",
           "landcolor": "#E5ECF6",
           "showlakes": true,
           "showland": true,
           "subunitcolor": "white"
          },
          "hoverlabel": {
           "align": "left"
          },
          "hovermode": "closest",
          "mapbox": {
           "style": "light"
          },
          "paper_bgcolor": "white",
          "plot_bgcolor": "#E5ECF6",
          "polar": {
           "angularaxis": {
            "gridcolor": "white",
            "linecolor": "white",
            "ticks": ""
           },
           "bgcolor": "#E5ECF6",
           "radialaxis": {
            "gridcolor": "white",
            "linecolor": "white",
            "ticks": ""
           }
          },
          "scene": {
           "xaxis": {
            "backgroundcolor": "#E5ECF6",
            "gridcolor": "white",
            "gridwidth": 2,
            "linecolor": "white",
            "showbackground": true,
            "ticks": "",
            "zerolinecolor": "white"
           },
           "yaxis": {
            "backgroundcolor": "#E5ECF6",
            "gridcolor": "white",
            "gridwidth": 2,
            "linecolor": "white",
            "showbackground": true,
            "ticks": "",
            "zerolinecolor": "white"
           },
           "zaxis": {
            "backgroundcolor": "#E5ECF6",
            "gridcolor": "white",
            "gridwidth": 2,
            "linecolor": "white",
            "showbackground": true,
            "ticks": "",
            "zerolinecolor": "white"
           }
          },
          "shapedefaults": {
           "line": {
            "color": "#2a3f5f"
           }
          },
          "ternary": {
           "aaxis": {
            "gridcolor": "white",
            "linecolor": "white",
            "ticks": ""
           },
           "baxis": {
            "gridcolor": "white",
            "linecolor": "white",
            "ticks": ""
           },
           "bgcolor": "#E5ECF6",
           "caxis": {
            "gridcolor": "white",
            "linecolor": "white",
            "ticks": ""
           }
          },
          "title": {
           "x": 0.05
          },
          "xaxis": {
           "automargin": true,
           "gridcolor": "white",
           "linecolor": "white",
           "ticks": "",
           "title": {
            "standoff": 15
           },
           "zerolinecolor": "white",
           "zerolinewidth": 2
          },
          "yaxis": {
           "automargin": true,
           "gridcolor": "white",
           "linecolor": "white",
           "ticks": "",
           "title": {
            "standoff": 15
           },
           "zerolinecolor": "white",
           "zerolinewidth": 2
          }
         }
        }
       }
      },
      "text/html": [
       "<div>                            <div id=\"5ec42cd0-1827-43af-bbdc-ad785307efaf\" class=\"plotly-graph-div\" style=\"height:525px; width:100%;\"></div>            <script type=\"text/javascript\">                require([\"plotly\"], function(Plotly) {                    window.PLOTLYENV=window.PLOTLYENV || {};                                    if (document.getElementById(\"5ec42cd0-1827-43af-bbdc-ad785307efaf\")) {                    Plotly.newPlot(                        \"5ec42cd0-1827-43af-bbdc-ad785307efaf\",                        [{\"dimensions\":[{\"label\":\"mpg\",\"values\":[24.0,36.0,34.1,26.8,36.0,15.0,15.0,37.0,26.0,27.2,27.2,16.0,25.0,27.9,39.4]},{\"label\":\"horsepower\",\"values\":[110,75,65,115,84,145,145,92,93,71,97,110,71,105,70]},{\"label\":\"weight\",\"values\":[2660,2205,1975,2700,2370,4082,4440,2434,2391,3190,2300,3632,2223,2800,2070]},{\"label\":\"acceleration\",\"values\":[14.0,14.5,15.2,12.9,13.0,13.0,14.0,15.0,15.5,24.8,14.7,18.0,16.5,14.4,18.6]},{\"label\":\"price\",\"values\":[30000.0,30000.0,20000.0,45923.53551,17421.6269,26355.63972,8844.146509,47697.07716,26414.50827,24639.37404,35110.41972,35815.10738,34295.65704,52035.83362,40000.0]}],\"domain\":{\"x\":[0.0,1.0],\"y\":[0.0,1.0]},\"name\":\"\",\"type\":\"parcoords\"}],                        {\"template\":{\"data\":{\"histogram2dcontour\":[{\"type\":\"histogram2dcontour\",\"colorbar\":{\"outlinewidth\":0,\"ticks\":\"\"},\"colorscale\":[[0.0,\"#0d0887\"],[0.1111111111111111,\"#46039f\"],[0.2222222222222222,\"#7201a8\"],[0.3333333333333333,\"#9c179e\"],[0.4444444444444444,\"#bd3786\"],[0.5555555555555556,\"#d8576b\"],[0.6666666666666666,\"#ed7953\"],[0.7777777777777778,\"#fb9f3a\"],[0.8888888888888888,\"#fdca26\"],[1.0,\"#f0f921\"]]}],\"choropleth\":[{\"type\":\"choropleth\",\"colorbar\":{\"outlinewidth\":0,\"ticks\":\"\"}}],\"histogram2d\":[{\"type\":\"histogram2d\",\"colorbar\":{\"outlinewidth\":0,\"ticks\":\"\"},\"colorscale\":[[0.0,\"#0d0887\"],[0.1111111111111111,\"#46039f\"],[0.2222222222222222,\"#7201a8\"],[0.3333333333333333,\"#9c179e\"],[0.4444444444444444,\"#bd3786\"],[0.5555555555555556,\"#d8576b\"],[0.6666666666666666,\"#ed7953\"],[0.7777777777777778,\"#fb9f3a\"],[0.8888888888888888,\"#fdca26\"],[1.0,\"#f0f921\"]]}],\"heatmap\":[{\"type\":\"heatmap\",\"colorbar\":{\"outlinewidth\":0,\"ticks\":\"\"},\"colorscale\":[[0.0,\"#0d0887\"],[0.1111111111111111,\"#46039f\"],[0.2222222222222222,\"#7201a8\"],[0.3333333333333333,\"#9c179e\"],[0.4444444444444444,\"#bd3786\"],[0.5555555555555556,\"#d8576b\"],[0.6666666666666666,\"#ed7953\"],[0.7777777777777778,\"#fb9f3a\"],[0.8888888888888888,\"#fdca26\"],[1.0,\"#f0f921\"]]}],\"heatmapgl\":[{\"type\":\"heatmapgl\",\"colorbar\":{\"outlinewidth\":0,\"ticks\":\"\"},\"colorscale\":[[0.0,\"#0d0887\"],[0.1111111111111111,\"#46039f\"],[0.2222222222222222,\"#7201a8\"],[0.3333333333333333,\"#9c179e\"],[0.4444444444444444,\"#bd3786\"],[0.5555555555555556,\"#d8576b\"],[0.6666666666666666,\"#ed7953\"],[0.7777777777777778,\"#fb9f3a\"],[0.8888888888888888,\"#fdca26\"],[1.0,\"#f0f921\"]]}],\"contourcarpet\":[{\"type\":\"contourcarpet\",\"colorbar\":{\"outlinewidth\":0,\"ticks\":\"\"}}],\"contour\":[{\"type\":\"contour\",\"colorbar\":{\"outlinewidth\":0,\"ticks\":\"\"},\"colorscale\":[[0.0,\"#0d0887\"],[0.1111111111111111,\"#46039f\"],[0.2222222222222222,\"#7201a8\"],[0.3333333333333333,\"#9c179e\"],[0.4444444444444444,\"#bd3786\"],[0.5555555555555556,\"#d8576b\"],[0.6666666666666666,\"#ed7953\"],[0.7777777777777778,\"#fb9f3a\"],[0.8888888888888888,\"#fdca26\"],[1.0,\"#f0f921\"]]}],\"surface\":[{\"type\":\"surface\",\"colorbar\":{\"outlinewidth\":0,\"ticks\":\"\"},\"colorscale\":[[0.0,\"#0d0887\"],[0.1111111111111111,\"#46039f\"],[0.2222222222222222,\"#7201a8\"],[0.3333333333333333,\"#9c179e\"],[0.4444444444444444,\"#bd3786\"],[0.5555555555555556,\"#d8576b\"],[0.6666666666666666,\"#ed7953\"],[0.7777777777777778,\"#fb9f3a\"],[0.8888888888888888,\"#fdca26\"],[1.0,\"#f0f921\"]]}],\"mesh3d\":[{\"type\":\"mesh3d\",\"colorbar\":{\"outlinewidth\":0,\"ticks\":\"\"}}],\"scatter\":[{\"fillpattern\":{\"fillmode\":\"overlay\",\"size\":10,\"solidity\":0.2},\"type\":\"scatter\"}],\"parcoords\":[{\"type\":\"parcoords\",\"line\":{\"colorbar\":{\"outlinewidth\":0,\"ticks\":\"\"}}}],\"scatterpolargl\":[{\"type\":\"scatterpolargl\",\"marker\":{\"colorbar\":{\"outlinewidth\":0,\"ticks\":\"\"}}}],\"bar\":[{\"error_x\":{\"color\":\"#2a3f5f\"},\"error_y\":{\"color\":\"#2a3f5f\"},\"marker\":{\"line\":{\"color\":\"#E5ECF6\",\"width\":0.5},\"pattern\":{\"fillmode\":\"overlay\",\"size\":10,\"solidity\":0.2}},\"type\":\"bar\"}],\"scattergeo\":[{\"type\":\"scattergeo\",\"marker\":{\"colorbar\":{\"outlinewidth\":0,\"ticks\":\"\"}}}],\"scatterpolar\":[{\"type\":\"scatterpolar\",\"marker\":{\"colorbar\":{\"outlinewidth\":0,\"ticks\":\"\"}}}],\"histogram\":[{\"marker\":{\"pattern\":{\"fillmode\":\"overlay\",\"size\":10,\"solidity\":0.2}},\"type\":\"histogram\"}],\"scattergl\":[{\"type\":\"scattergl\",\"marker\":{\"colorbar\":{\"outlinewidth\":0,\"ticks\":\"\"}}}],\"scatter3d\":[{\"type\":\"scatter3d\",\"line\":{\"colorbar\":{\"outlinewidth\":0,\"ticks\":\"\"}},\"marker\":{\"colorbar\":{\"outlinewidth\":0,\"ticks\":\"\"}}}],\"scattermapbox\":[{\"type\":\"scattermapbox\",\"marker\":{\"colorbar\":{\"outlinewidth\":0,\"ticks\":\"\"}}}],\"scatterternary\":[{\"type\":\"scatterternary\",\"marker\":{\"colorbar\":{\"outlinewidth\":0,\"ticks\":\"\"}}}],\"scattercarpet\":[{\"type\":\"scattercarpet\",\"marker\":{\"colorbar\":{\"outlinewidth\":0,\"ticks\":\"\"}}}],\"carpet\":[{\"aaxis\":{\"endlinecolor\":\"#2a3f5f\",\"gridcolor\":\"white\",\"linecolor\":\"white\",\"minorgridcolor\":\"white\",\"startlinecolor\":\"#2a3f5f\"},\"baxis\":{\"endlinecolor\":\"#2a3f5f\",\"gridcolor\":\"white\",\"linecolor\":\"white\",\"minorgridcolor\":\"white\",\"startlinecolor\":\"#2a3f5f\"},\"type\":\"carpet\"}],\"table\":[{\"cells\":{\"fill\":{\"color\":\"#EBF0F8\"},\"line\":{\"color\":\"white\"}},\"header\":{\"fill\":{\"color\":\"#C8D4E3\"},\"line\":{\"color\":\"white\"}},\"type\":\"table\"}],\"barpolar\":[{\"marker\":{\"line\":{\"color\":\"#E5ECF6\",\"width\":0.5},\"pattern\":{\"fillmode\":\"overlay\",\"size\":10,\"solidity\":0.2}},\"type\":\"barpolar\"}],\"pie\":[{\"automargin\":true,\"type\":\"pie\"}]},\"layout\":{\"autotypenumbers\":\"strict\",\"colorway\":[\"#636efa\",\"#EF553B\",\"#00cc96\",\"#ab63fa\",\"#FFA15A\",\"#19d3f3\",\"#FF6692\",\"#B6E880\",\"#FF97FF\",\"#FECB52\"],\"font\":{\"color\":\"#2a3f5f\"},\"hovermode\":\"closest\",\"hoverlabel\":{\"align\":\"left\"},\"paper_bgcolor\":\"white\",\"plot_bgcolor\":\"#E5ECF6\",\"polar\":{\"bgcolor\":\"#E5ECF6\",\"angularaxis\":{\"gridcolor\":\"white\",\"linecolor\":\"white\",\"ticks\":\"\"},\"radialaxis\":{\"gridcolor\":\"white\",\"linecolor\":\"white\",\"ticks\":\"\"}},\"ternary\":{\"bgcolor\":\"#E5ECF6\",\"aaxis\":{\"gridcolor\":\"white\",\"linecolor\":\"white\",\"ticks\":\"\"},\"baxis\":{\"gridcolor\":\"white\",\"linecolor\":\"white\",\"ticks\":\"\"},\"caxis\":{\"gridcolor\":\"white\",\"linecolor\":\"white\",\"ticks\":\"\"}},\"coloraxis\":{\"colorbar\":{\"outlinewidth\":0,\"ticks\":\"\"}},\"colorscale\":{\"sequential\":[[0.0,\"#0d0887\"],[0.1111111111111111,\"#46039f\"],[0.2222222222222222,\"#7201a8\"],[0.3333333333333333,\"#9c179e\"],[0.4444444444444444,\"#bd3786\"],[0.5555555555555556,\"#d8576b\"],[0.6666666666666666,\"#ed7953\"],[0.7777777777777778,\"#fb9f3a\"],[0.8888888888888888,\"#fdca26\"],[1.0,\"#f0f921\"]],\"sequentialminus\":[[0.0,\"#0d0887\"],[0.1111111111111111,\"#46039f\"],[0.2222222222222222,\"#7201a8\"],[0.3333333333333333,\"#9c179e\"],[0.4444444444444444,\"#bd3786\"],[0.5555555555555556,\"#d8576b\"],[0.6666666666666666,\"#ed7953\"],[0.7777777777777778,\"#fb9f3a\"],[0.8888888888888888,\"#fdca26\"],[1.0,\"#f0f921\"]],\"diverging\":[[0,\"#8e0152\"],[0.1,\"#c51b7d\"],[0.2,\"#de77ae\"],[0.3,\"#f1b6da\"],[0.4,\"#fde0ef\"],[0.5,\"#f7f7f7\"],[0.6,\"#e6f5d0\"],[0.7,\"#b8e186\"],[0.8,\"#7fbc41\"],[0.9,\"#4d9221\"],[1,\"#276419\"]]},\"xaxis\":{\"gridcolor\":\"white\",\"linecolor\":\"white\",\"ticks\":\"\",\"title\":{\"standoff\":15},\"zerolinecolor\":\"white\",\"automargin\":true,\"zerolinewidth\":2},\"yaxis\":{\"gridcolor\":\"white\",\"linecolor\":\"white\",\"ticks\":\"\",\"title\":{\"standoff\":15},\"zerolinecolor\":\"white\",\"automargin\":true,\"zerolinewidth\":2},\"scene\":{\"xaxis\":{\"backgroundcolor\":\"#E5ECF6\",\"gridcolor\":\"white\",\"linecolor\":\"white\",\"showbackground\":true,\"ticks\":\"\",\"zerolinecolor\":\"white\",\"gridwidth\":2},\"yaxis\":{\"backgroundcolor\":\"#E5ECF6\",\"gridcolor\":\"white\",\"linecolor\":\"white\",\"showbackground\":true,\"ticks\":\"\",\"zerolinecolor\":\"white\",\"gridwidth\":2},\"zaxis\":{\"backgroundcolor\":\"#E5ECF6\",\"gridcolor\":\"white\",\"linecolor\":\"white\",\"showbackground\":true,\"ticks\":\"\",\"zerolinecolor\":\"white\",\"gridwidth\":2}},\"shapedefaults\":{\"line\":{\"color\":\"#2a3f5f\"}},\"annotationdefaults\":{\"arrowcolor\":\"#2a3f5f\",\"arrowhead\":0,\"arrowwidth\":1},\"geo\":{\"bgcolor\":\"white\",\"landcolor\":\"#E5ECF6\",\"subunitcolor\":\"white\",\"showland\":true,\"showlakes\":true,\"lakecolor\":\"white\"},\"title\":{\"x\":0.05},\"mapbox\":{\"style\":\"light\"}}},\"legend\":{\"tracegroupgap\":0},\"margin\":{\"t\":60}},                        {\"responsive\": true}                    ).then(function(){\n",
       "                            \n",
       "var gd = document.getElementById('5ec42cd0-1827-43af-bbdc-ad785307efaf');\n",
       "var x = new MutationObserver(function (mutations, observer) {{\n",
       "        var display = window.getComputedStyle(gd).display;\n",
       "        if (!display || display === 'none') {{\n",
       "            console.log([gd, 'removed!']);\n",
       "            Plotly.purge(gd);\n",
       "            observer.disconnect();\n",
       "        }}\n",
       "}});\n",
       "\n",
       "// Listen for the removal of the full notebook cells\n",
       "var notebookContainer = gd.closest('#notebook-container');\n",
       "if (notebookContainer) {{\n",
       "    x.observe(notebookContainer, {childList: true});\n",
       "}}\n",
       "\n",
       "// Listen for the clearing of the current output cell\n",
       "var outputEl = gd.closest('.output');\n",
       "if (outputEl) {{\n",
       "    x.observe(outputEl, {childList: true});\n",
       "}}\n",
       "\n",
       "                        })                };                });            </script>        </div>"
      ]
     },
     "metadata": {},
     "output_type": "display_data"
    }
   ],
   "source": [
    "import plotly.express as px\n",
    "#df = px.data.iris()\n",
    "fig = px.parallel_coordinates(df,\n",
    "                             color_continuous_scale=px.colors.diverging.Tealrose,\n",
    "                             color_continuous_midpoint=2)\n",
    "fig.show()"
   ]
  },
  {
   "cell_type": "code",
   "execution_count": 1,
   "id": "a412f8b1",
   "metadata": {},
   "outputs": [],
   "source": [
    "import pandas as pd\n",
    "import numpy as np\n",
    "from copy import deepcopy"
   ]
  },
  {
   "cell_type": "code",
   "execution_count": 48,
   "id": "446f7d22",
   "metadata": {},
   "outputs": [
    {
     "data": {
      "text/html": [
       "<div>\n",
       "<style scoped>\n",
       "    .dataframe tbody tr th:only-of-type {\n",
       "        vertical-align: middle;\n",
       "    }\n",
       "\n",
       "    .dataframe tbody tr th {\n",
       "        vertical-align: top;\n",
       "    }\n",
       "\n",
       "    .dataframe thead th {\n",
       "        text-align: right;\n",
       "    }\n",
       "</style>\n",
       "<table border=\"1\" class=\"dataframe\">\n",
       "  <thead>\n",
       "    <tr style=\"text-align: right;\">\n",
       "      <th></th>\n",
       "      <th>mpg</th>\n",
       "      <th>horsepower</th>\n",
       "      <th>weight</th>\n",
       "      <th>acceleration</th>\n",
       "      <th>price</th>\n",
       "    </tr>\n",
       "  </thead>\n",
       "  <tbody>\n",
       "    <tr>\n",
       "      <th>count</th>\n",
       "      <td>15.000000</td>\n",
       "      <td>15.000000</td>\n",
       "      <td>15.000000</td>\n",
       "      <td>15.000000</td>\n",
       "      <td>15.000000</td>\n",
       "    </tr>\n",
       "    <tr>\n",
       "      <th>mean</th>\n",
       "      <td>27.506667</td>\n",
       "      <td>96.533333</td>\n",
       "      <td>2764.800000</td>\n",
       "      <td>15.606667</td>\n",
       "      <td>31636.861725</td>\n",
       "    </tr>\n",
       "    <tr>\n",
       "      <th>std</th>\n",
       "      <td>7.956351</td>\n",
       "      <td>25.536715</td>\n",
       "      <td>747.619002</td>\n",
       "      <td>3.048762</td>\n",
       "      <td>11805.499037</td>\n",
       "    </tr>\n",
       "    <tr>\n",
       "      <th>min</th>\n",
       "      <td>15.000000</td>\n",
       "      <td>65.000000</td>\n",
       "      <td>1975.000000</td>\n",
       "      <td>12.900000</td>\n",
       "      <td>8844.146509</td>\n",
       "    </tr>\n",
       "    <tr>\n",
       "      <th>25%</th>\n",
       "      <td>24.500000</td>\n",
       "      <td>73.000000</td>\n",
       "      <td>2261.500000</td>\n",
       "      <td>14.000000</td>\n",
       "      <td>25497.506880</td>\n",
       "    </tr>\n",
       "    <tr>\n",
       "      <th>50%</th>\n",
       "      <td>27.200000</td>\n",
       "      <td>93.000000</td>\n",
       "      <td>2434.000000</td>\n",
       "      <td>14.700000</td>\n",
       "      <td>30000.000000</td>\n",
       "    </tr>\n",
       "    <tr>\n",
       "      <th>75%</th>\n",
       "      <td>35.050000</td>\n",
       "      <td>110.000000</td>\n",
       "      <td>2995.000000</td>\n",
       "      <td>16.000000</td>\n",
       "      <td>37907.553690</td>\n",
       "    </tr>\n",
       "    <tr>\n",
       "      <th>max</th>\n",
       "      <td>39.400000</td>\n",
       "      <td>145.000000</td>\n",
       "      <td>4440.000000</td>\n",
       "      <td>24.800000</td>\n",
       "      <td>52035.833620</td>\n",
       "    </tr>\n",
       "  </tbody>\n",
       "</table>\n",
       "</div>"
      ],
      "text/plain": [
       "             mpg  horsepower       weight  acceleration         price\n",
       "count  15.000000   15.000000    15.000000     15.000000     15.000000\n",
       "mean   27.506667   96.533333  2764.800000     15.606667  31636.861725\n",
       "std     7.956351   25.536715   747.619002      3.048762  11805.499037\n",
       "min    15.000000   65.000000  1975.000000     12.900000   8844.146509\n",
       "25%    24.500000   73.000000  2261.500000     14.000000  25497.506880\n",
       "50%    27.200000   93.000000  2434.000000     14.700000  30000.000000\n",
       "75%    35.050000  110.000000  2995.000000     16.000000  37907.553690\n",
       "max    39.400000  145.000000  4440.000000     24.800000  52035.833620"
      ]
     },
     "execution_count": 48,
     "metadata": {},
     "output_type": "execute_result"
    }
   ],
   "source": [
    "url = 'https://raw.githubusercontent.com/imohitmayank/ranking_algorithm_intro/master/cars_multi.csv'\n",
    "df = pd.read_csv(url).sample(15,random_state=200) #nie zmieniaj proszę, na końcu niech będzie chociaż 20,random_state=200\n",
    "\n",
    "df =  df[['mpg','horsepower', 'weight', 'acceleration', 'price']]\n",
    "\n",
    "df = df.dropna()\n",
    "df = df[df.horsepower != '?']\n",
    "df['horsepower'] = df.horsepower.astype(int)\n",
    "\n",
    "# print(sorted(df['mpg'].unique())) #tylko aby sprawdzić, czy nie ma dziwnych znaków\n",
    "df = df.reset_index(drop = True)\n",
    "\n",
    "df.describe()"
   ]
  },
  {
   "cell_type": "code",
   "execution_count": 49,
   "id": "a6260c0a",
   "metadata": {},
   "outputs": [
    {
     "data": {
      "text/html": [
       "<div>\n",
       "<style scoped>\n",
       "    .dataframe tbody tr th:only-of-type {\n",
       "        vertical-align: middle;\n",
       "    }\n",
       "\n",
       "    .dataframe tbody tr th {\n",
       "        vertical-align: top;\n",
       "    }\n",
       "\n",
       "    .dataframe thead th {\n",
       "        text-align: right;\n",
       "    }\n",
       "</style>\n",
       "<table border=\"1\" class=\"dataframe\">\n",
       "  <thead>\n",
       "    <tr style=\"text-align: right;\">\n",
       "      <th></th>\n",
       "      <th>mpg</th>\n",
       "      <th>horsepower</th>\n",
       "      <th>weight</th>\n",
       "      <th>acceleration</th>\n",
       "      <th>price</th>\n",
       "    </tr>\n",
       "  </thead>\n",
       "  <tbody>\n",
       "    <tr>\n",
       "      <th>q (indifference)</th>\n",
       "      <td>5</td>\n",
       "      <td>40</td>\n",
       "      <td>400</td>\n",
       "      <td>1</td>\n",
       "      <td>3000</td>\n",
       "    </tr>\n",
       "    <tr>\n",
       "      <th>p (preference)</th>\n",
       "      <td>12</td>\n",
       "      <td>80</td>\n",
       "      <td>800</td>\n",
       "      <td>3</td>\n",
       "      <td>7000</td>\n",
       "    </tr>\n",
       "    <tr>\n",
       "      <th>v (veto)</th>\n",
       "      <td>25</td>\n",
       "      <td>160</td>\n",
       "      <td>2000</td>\n",
       "      <td>10</td>\n",
       "      <td>25000</td>\n",
       "    </tr>\n",
       "    <tr>\n",
       "      <th>type_of cathegory</th>\n",
       "      <td>gain</td>\n",
       "      <td>gain</td>\n",
       "      <td>gain</td>\n",
       "      <td>gain</td>\n",
       "      <td>cost</td>\n",
       "    </tr>\n",
       "  </tbody>\n",
       "</table>\n",
       "</div>"
      ],
      "text/plain": [
       "                    mpg horsepower weight acceleration  price\n",
       "q (indifference)      5         40    400            1   3000\n",
       "p (preference)       12         80    800            3   7000\n",
       "v (veto)             25        160   2000           10  25000\n",
       "type_of cathegory  gain       gain   gain         gain   cost"
      ]
     },
     "execution_count": 49,
     "metadata": {},
     "output_type": "execute_result"
    }
   ],
   "source": [
    "#q p v type_of the cathegory = {\"gain\", \"cost\"}\n",
    "c = 'cost'\n",
    "g = 'gain'\n",
    "q = [5, 40, 400, 1, 3000]\n",
    "p = [12, 80, 800,  3, 7000]\n",
    "v = [25,160, 2000, 10, 25000]\n",
    "cat_type = [g,g,g,g,c]\n",
    "qpv = pd.DataFrame([q,p,v,cat_type], columns = df.columns, index = [\"q (indifference)\",\"p (preference)\",\"v (veto)\",\"type_of cathegory\"])\n",
    "qpv\n"
   ]
  },
  {
   "cell_type": "code",
   "execution_count": 50,
   "id": "f96e8ae9",
   "metadata": {},
   "outputs": [
    {
     "data": {
      "text/html": [
       "<div>\n",
       "<style scoped>\n",
       "    .dataframe tbody tr th:only-of-type {\n",
       "        vertical-align: middle;\n",
       "    }\n",
       "\n",
       "    .dataframe tbody tr th {\n",
       "        vertical-align: top;\n",
       "    }\n",
       "\n",
       "    .dataframe thead th {\n",
       "        text-align: right;\n",
       "    }\n",
       "</style>\n",
       "<table border=\"1\" class=\"dataframe\">\n",
       "  <thead>\n",
       "    <tr style=\"text-align: right;\">\n",
       "      <th></th>\n",
       "      <th>mpg</th>\n",
       "      <th>horsepower</th>\n",
       "      <th>weight</th>\n",
       "      <th>acceleration</th>\n",
       "      <th>price</th>\n",
       "    </tr>\n",
       "  </thead>\n",
       "  <tbody>\n",
       "    <tr>\n",
       "      <th>weight</th>\n",
       "      <td>0.285714</td>\n",
       "      <td>0.071429</td>\n",
       "      <td>0.071429</td>\n",
       "      <td>0.214286</td>\n",
       "      <td>0.357143</td>\n",
       "    </tr>\n",
       "  </tbody>\n",
       "</table>\n",
       "</div>"
      ],
      "text/plain": [
       "             mpg  horsepower    weight  acceleration     price\n",
       "weight  0.285714    0.071429  0.071429      0.214286  0.357143"
      ]
     },
     "execution_count": 50,
     "metadata": {},
     "output_type": "execute_result"
    }
   ],
   "source": [
    "weights = np.array([4.,1., 1., 3., 5.])\n",
    "weights = [np.array(weights/sum(weights)).transpose()]\n",
    "# print(weights.shape)\n",
    "weights=pd.DataFrame(weights, index=[\"weight\"], columns = df.columns)\n",
    "weights"
   ]
  },
  {
   "cell_type": "code",
   "execution_count": 51,
   "id": "6dff6701",
   "metadata": {},
   "outputs": [],
   "source": [
    "def preference_function(a, b, qpv, reverse = False):\n",
    "    if reverse is True:\n",
    "        a,b = b,a\n",
    "    q, p, v, category_type = qpv\n",
    "    \n",
    "    if category_type == \"gain\":\n",
    "        d = a-b\n",
    "    elif category_type == \"cost\":\n",
    "        d = b-a\n",
    "    else:\n",
    "        assert(\"Sorry, wrong category type.\")\n",
    "    \n",
    "    if d > p:\n",
    "        return 1\n",
    "    elif d <= q:\n",
    "        return 0\n",
    "    else:\n",
    "        return (d-q)/(p-q)\n",
    "\n"
   ]
  },
  {
   "cell_type": "code",
   "execution_count": 52,
   "id": "4338dfce",
   "metadata": {},
   "outputs": [
    {
     "data": {
      "text/plain": [
       "1"
      ]
     },
     "execution_count": 52,
     "metadata": {},
     "output_type": "execute_result"
    }
   ],
   "source": [
    "#demo\n",
    "preference_function(400, 1000, [100, 300, -1, \"cost\"])"
   ]
  },
  {
   "cell_type": "code",
   "execution_count": 53,
   "id": "0037c001",
   "metadata": {},
   "outputs": [],
   "source": [
    "def marginal_preferenc_indices(df, criteria, qpv):\n",
    "    out = np.zeros((len(df), len(df)), dtype = np.float64)\n",
    "    for i, di in df.iterrows():\n",
    "        for j, dj in df.iterrows():\n",
    "            out[i][j] += preference_function(di[criteria], dj[criteria], qpv[criteria])\n",
    "    return np.array(out)"
   ]
  },
  {
   "cell_type": "code",
   "execution_count": 54,
   "id": "87b07d32",
   "metadata": {},
   "outputs": [
    {
     "data": {
      "text/plain": [
       "array([[0.        , 0.        , 0.        , 0.        , 0.        ,\n",
       "        0.57142857, 0.57142857, 0.        , 0.        , 0.        ,\n",
       "        0.        , 0.42857143, 0.        , 0.        , 0.        ],\n",
       "       [1.        , 0.        , 0.        , 0.6       , 0.        ,\n",
       "        1.        , 1.        , 0.        , 0.71428571, 0.54285714,\n",
       "        0.54285714, 1.        , 0.85714286, 0.44285714, 0.        ],\n",
       "       [0.72857143, 0.        , 0.        , 0.32857143, 0.        ,\n",
       "        1.        , 1.        , 0.        , 0.44285714, 0.27142857,\n",
       "        0.27142857, 1.        , 0.58571429, 0.17142857, 0.        ],\n",
       "       [0.        , 0.        , 0.        , 0.        , 0.        ,\n",
       "        0.97142857, 0.97142857, 0.        , 0.        , 0.        ,\n",
       "        0.        , 0.82857143, 0.        , 0.        , 0.        ],\n",
       "       [1.        , 0.        , 0.        , 0.6       , 0.        ,\n",
       "        1.        , 1.        , 0.        , 0.71428571, 0.54285714,\n",
       "        0.54285714, 1.        , 0.85714286, 0.44285714, 0.        ],\n",
       "       [0.        , 0.        , 0.        , 0.        , 0.        ,\n",
       "        0.        , 0.        , 0.        , 0.        , 0.        ,\n",
       "        0.        , 0.        , 0.        , 0.        , 0.        ],\n",
       "       [0.        , 0.        , 0.        , 0.        , 0.        ,\n",
       "        0.        , 0.        , 0.        , 0.        , 0.        ,\n",
       "        0.        , 0.        , 0.        , 0.        , 0.        ],\n",
       "       [1.        , 0.        , 0.        , 0.74285714, 0.        ,\n",
       "        1.        , 1.        , 0.        , 0.85714286, 0.68571429,\n",
       "        0.68571429, 1.        , 1.        , 0.58571429, 0.        ],\n",
       "       [0.        , 0.        , 0.        , 0.        , 0.        ,\n",
       "        0.85714286, 0.85714286, 0.        , 0.        , 0.        ,\n",
       "        0.        , 0.71428571, 0.        , 0.        , 0.        ],\n",
       "       [0.        , 0.        , 0.        , 0.        , 0.        ,\n",
       "        1.        , 1.        , 0.        , 0.        , 0.        ,\n",
       "        0.        , 0.88571429, 0.        , 0.        , 0.        ],\n",
       "       [0.        , 0.        , 0.        , 0.        , 0.        ,\n",
       "        1.        , 1.        , 0.        , 0.        , 0.        ,\n",
       "        0.        , 0.88571429, 0.        , 0.        , 0.        ],\n",
       "       [0.        , 0.        , 0.        , 0.        , 0.        ,\n",
       "        0.        , 0.        , 0.        , 0.        , 0.        ,\n",
       "        0.        , 0.        , 0.        , 0.        , 0.        ],\n",
       "       [0.        , 0.        , 0.        , 0.        , 0.        ,\n",
       "        0.71428571, 0.71428571, 0.        , 0.        , 0.        ,\n",
       "        0.        , 0.57142857, 0.        , 0.        , 0.        ],\n",
       "       [0.        , 0.        , 0.        , 0.        , 0.        ,\n",
       "        1.        , 1.        , 0.        , 0.        , 0.        ,\n",
       "        0.        , 0.98571429, 0.        , 0.        , 0.        ],\n",
       "       [1.        , 0.        , 0.04285714, 1.        , 0.        ,\n",
       "        1.        , 1.        , 0.        , 1.        , 1.        ,\n",
       "        1.        , 1.        , 1.        , 0.92857143, 0.        ]])"
      ]
     },
     "execution_count": 54,
     "metadata": {},
     "output_type": "execute_result"
    }
   ],
   "source": [
    "#demo\n",
    "np.array(marginal_preferenc_indices(df, \"mpg\", qpv))"
   ]
  },
  {
   "cell_type": "code",
   "execution_count": 55,
   "id": "fbb017cb",
   "metadata": {},
   "outputs": [],
   "source": [
    "def comprehensive_preference_indices(df, qpv, weights):\n",
    "    out = np.zeros((len(df), len(df)))\n",
    "    criterias = df.columns\n",
    "    for c in criterias:\n",
    "        out += marginal_preferenc_indices(df, c, qpv) * weights[c][\"weight\"]\n",
    "    return out"
   ]
  },
  {
   "cell_type": "code",
   "execution_count": 56,
   "id": "5382d48e",
   "metadata": {},
   "outputs": [
    {
     "name": "stdout",
     "output_type": "stream",
     "text": [
      "[[0.         0.00982143 0.05982143 0.36785714 0.         0.16326531\n",
      "  0.16326531 0.35714286 0.         0.         0.18843033 0.37379785\n",
      "  0.12229081 0.35714286 0.39107143]\n",
      " [0.28571429 0.         0.         0.59285714 0.05357143 0.33928571\n",
      "  0.28571429 0.35714286 0.20408163 0.15510204 0.34353237 0.53706316\n",
      "  0.36058162 0.48367347 0.35714286]\n",
      " [0.58673469 0.35714286 0.         0.59030612 0.12857143 0.7138964\n",
      "  0.30714286 0.35714286 0.43139742 0.2239237  0.43469388 0.64285714\n",
      "  0.5244898  0.40612245 0.35714286]\n",
      " [0.         0.01696429 0.07589286 0.         0.         0.27755102\n",
      "  0.27755102 0.         0.         0.00714286 0.         0.23673469\n",
      "  0.02089286 0.27788376 0.05      ]\n",
      " [0.64285714 0.35714286 0.         0.52857143 0.         0.64285714\n",
      "  0.28571429 0.35714286 0.56122449 0.5122449  0.5122449  0.64285714\n",
      "  0.60204082 0.48367347 0.35714286]\n",
      " [0.12896074 0.18253217 0.14285714 0.42857143 0.10892857 0.\n",
      "  0.         0.45178571 0.09285714 0.13214286 0.44285714 0.36607143\n",
      "  0.48928571 0.42857143 0.49107143]\n",
      " [0.42857143 0.48214286 0.5        0.43928571 0.46607143 0.35714286\n",
      "  0.         0.45178571 0.45       0.48928571 0.44285714 0.42857143\n",
      "  0.48928571 0.42857143 0.49107143]\n",
      " [0.28571429 0.         0.01053571 0.33010204 0.10714286 0.39285714\n",
      "  0.28571429 0.         0.24489796 0.19591837 0.19591837 0.28571429\n",
      "  0.28571429 0.28687877 0.        ]\n",
      " [0.10584748 0.05227605 0.00285714 0.52857143 0.16071429 0.40561224\n",
      "  0.29846939 0.35714286 0.         0.         0.35714286 0.56122449\n",
      "  0.35714286 0.36785714 0.35714286]\n",
      " [0.44827018 0.49648446 0.28571429 0.5875     0.28571429 0.5\n",
      "  0.5        0.635      0.28553571 0.         0.64285714 0.8244898\n",
      "  0.64285714 0.57142857 0.64285714]\n",
      " [0.         0.         0.         0.44285714 0.075      0.36071429\n",
      "  0.28571429 0.35714286 0.         0.         0.         0.25306122\n",
      "  0.         0.35714286 0.16871253]\n",
      " [0.28571429 0.28571429 0.27321429 0.64285714 0.28571429 0.21428571\n",
      "  0.21428571 0.64285714 0.23214286 0.0075     0.28571429 0.\n",
      "  0.125      0.64285714 0.17722256]\n",
      " [0.16071429 0.10714286 0.03214286 0.57142857 0.21428571 0.41836735\n",
      "  0.36479592 0.41071429 0.         0.         0.08571429 0.16326531\n",
      "  0.         0.475      0.24145919]\n",
      " [0.         0.03482143 0.07142857 0.05357143 0.04821429 0.32857143\n",
      "  0.28571429 0.         0.00160714 0.         0.01785714 0.28163265\n",
      "  0.03160714 0.         0.05892857]\n",
      " [0.5        0.21428571 0.22653061 0.76102996 0.21428571 0.5\n",
      "  0.5        0.57142857 0.5        0.28571429 0.5        0.28571429\n",
      "  0.40357143 0.83673469 0.        ]]\n"
     ]
    }
   ],
   "source": [
    "#demo\n",
    "cpi = comprehensive_preference_indices(df, qpv, weights)\n",
    "print(cpi)"
   ]
  },
  {
   "cell_type": "code",
   "execution_count": 91,
   "id": "eb92308a",
   "metadata": {},
   "outputs": [],
   "source": [
    "def prometheeIMatrix(pos_flow, neg_flow):\n",
    "    out = np.zeros((len(pos_flow), len(pos_flow)))\n",
    "    for (pos_i, i), (neg_i, _) in zip(pos_flow, neg_flow):\n",
    "        for (pos_j, j), (neg_j, _) in zip(pos_flow, neg_flow):\n",
    "            if (pos_i > pos_j and neg_i < neg_j) or \\\n",
    "               (pos_i == pos_j and neg_i < neg_j) or \\\n",
    "                (pos_i > pos_j and neg_i == neg_j):\n",
    "                out[i][j] = 1\n",
    "            elif pos_i == pos_j and neg_i == neg_j:\n",
    "                out[i][j] = 0\n",
    "            else:\n",
    "                out[i][j] = -1\n",
    "    return out\n",
    "    "
   ]
  },
  {
   "cell_type": "code",
   "execution_count": 92,
   "id": "8ceaa20b",
   "metadata": {},
   "outputs": [
    {
     "name": "stdout",
     "output_type": "stream",
     "text": [
      "[2.5539067471938774, 4.355462869642857, 6.061564466964286, 1.240613351658163, 6.485714285714285, 3.8864929071428573, 6.3446428571428575, 2.907108357397959, 3.912001074234694, 7.348708717346938, 2.300345178061224, 4.315079698214285, 3.245030621428572, 1.213954081632653, 6.299295262372449]\n",
      "[3.859098798341837, 2.5964712473214293, 1.6809948979591836, 6.865366690943877, 2.1482142857142854, 5.614406607653061, 4.054081632653061, 5.3064285714285715, 3.0037443608418366, 2.008974722959184, 4.4498198479591835, 5.883054889285716, 4.454760185714286, 6.403538035586735, 4.140965701785714]\n",
      "[[ 0. -1. -1.  1. -1. -1. -1. -1. -1. -1.  1. -1. -1.  1. -1.]\n",
      " [ 1.  0. -1.  1. -1.  1. -1.  1.  1. -1.  1.  1.  1.  1. -1.]\n",
      " [ 1.  1.  0.  1. -1.  1. -1.  1.  1. -1.  1.  1.  1.  1. -1.]\n",
      " [-1. -1. -1.  0. -1. -1. -1. -1. -1. -1. -1. -1. -1. -1. -1.]\n",
      " [ 1.  1. -1.  1.  0.  1.  1.  1.  1. -1.  1.  1.  1.  1.  1.]\n",
      " [-1. -1. -1.  1. -1.  0. -1. -1. -1. -1. -1. -1. -1.  1. -1.]\n",
      " [-1. -1. -1.  1. -1.  1.  0.  1. -1. -1.  1.  1.  1.  1.  1.]\n",
      " [-1. -1. -1.  1. -1. -1. -1.  0. -1. -1. -1. -1. -1.  1. -1.]\n",
      " [ 1. -1. -1.  1. -1.  1. -1.  1.  0. -1.  1. -1.  1.  1. -1.]\n",
      " [ 1.  1. -1.  1.  1.  1.  1.  1.  1.  0.  1.  1.  1.  1.  1.]\n",
      " [-1. -1. -1.  1. -1. -1. -1. -1. -1. -1.  0. -1. -1.  1. -1.]\n",
      " [-1. -1. -1.  1. -1. -1. -1. -1. -1. -1. -1.  0. -1.  1. -1.]\n",
      " [-1. -1. -1.  1. -1. -1. -1.  1. -1. -1. -1. -1.  0.  1. -1.]\n",
      " [-1. -1. -1. -1. -1. -1. -1. -1. -1. -1. -1. -1. -1.  0. -1.]\n",
      " [-1. -1. -1.  1. -1.  1. -1.  1. -1. -1.  1.  1.  1.  1.  0.]]\n"
     ]
    }
   ],
   "source": [
    "#PROMETHEE I\n",
    "pos_flow = list(cpi.sum(1))\n",
    "neg_flow = list(cpi.sum(0))\n",
    "pos = list(zip(pos_flow, [c for c in range(len(df))]))\n",
    "neg = list(zip(neg_flow, [c for c in range(len(df))]))\n",
    "#example from lectures\n",
    "#pos = [(3.7, 0), (0.25, 1), (0.7, 2), (1.55, 3), (4.05, 4), (2.65, 5)]\n",
    "#neg = [(0.45, 0), (4, 1), (4.05, 2), (2.45, 3), (0.6, 4), (1.35, 5)]\n",
    "\n",
    "#Preference = 1\n",
    "#Indifference = 0\n",
    "#Incomparable = -1\n",
    "print([i for i, _ in pos])\n",
    "print([i for i, _ in neg])\n",
    "M = prometheeIMatrix(pos, neg)\n",
    "print(M)"
   ]
  },
  {
   "cell_type": "code",
   "execution_count": 137,
   "id": "d4f58e08",
   "metadata": {},
   "outputs": [],
   "source": [
    "def bestThree(M, n = 3, best = 1):\n",
    "    row_sum = [(sum(M[i][j] for j in range(len(M[i])) if M[i][j] == best), i) for i in range(len(M))]\n",
    "    \n",
    "    row_sum.sort(reverse = bool(best > 0))#False if best else True)\n",
    "    out = []\n",
    "    print(row_sum)\n",
    "    for i in range(n):\n",
    "        if i < len(row_sum):\n",
    "            out.append(row_sum[i][1])\n",
    "    return out"
   ]
  },
  {
   "cell_type": "code",
   "execution_count": 142,
   "id": "4b8b8873",
   "metadata": {},
   "outputs": [
    {
     "name": "stdout",
     "output_type": "stream",
     "text": [
      "[(-14.0, 3), (-14.0, 13), (-12.0, 5), (-12.0, 7), (-12.0, 10), (-12.0, 11), (-11.0, 0), (-11.0, 12), (-7.0, 8), (-7.0, 14), (-6.0, 6), (-5.0, 1), (-4.0, 2), (-2.0, 4), (-1.0, 9)]\n"
     ]
    },
    {
     "data": {
      "text/plain": [
       "[3, 13, 5]"
      ]
     },
     "execution_count": 142,
     "metadata": {},
     "output_type": "execute_result"
    }
   ],
   "source": [
    "bestThree(M, best = -1)"
   ]
  },
  {
   "cell_type": "code",
   "execution_count": 68,
   "id": "430b0d91",
   "metadata": {},
   "outputs": [
    {
     "data": {
      "image/svg+xml": [
       "<?xml version=\"1.0\" encoding=\"UTF-8\" standalone=\"no\"?>\n",
       "<!DOCTYPE svg PUBLIC \"-//W3C//DTD SVG 1.1//EN\"\n",
       " \"http://www.w3.org/Graphics/SVG/1.1/DTD/svg11.dtd\">\n",
       "<!-- Generated by graphviz version 7.1.0 (20230121.1956)\n",
       " -->\n",
       "<!-- Pages: 1 -->\n",
       "<svg width=\"1596pt\" height=\"476pt\"\n",
       " viewBox=\"0.00 0.00 1596.00 476.00\" xmlns=\"http://www.w3.org/2000/svg\" xmlns:xlink=\"http://www.w3.org/1999/xlink\">\n",
       "<g id=\"graph0\" class=\"graph\" transform=\"scale(1 1) rotate(0) translate(4 472)\">\n",
       "<polygon fill=\"white\" stroke=\"none\" points=\"-4,4 -4,-472 1592,-472 1592,4 -4,4\"/>\n",
       "<!-- 0 -->\n",
       "<g id=\"node1\" class=\"node\">\n",
       "<title>0</title>\n",
       "<ellipse fill=\"none\" stroke=\"black\" cx=\"363\" cy=\"-162\" rx=\"27\" ry=\"18\"/>\n",
       "<text text-anchor=\"middle\" x=\"363\" y=\"-158.3\" font-family=\"Times New Roman,serif\" font-size=\"14.00\">0</text>\n",
       "</g>\n",
       "<!-- 3 -->\n",
       "<g id=\"node4\" class=\"node\">\n",
       "<title>3</title>\n",
       "<ellipse fill=\"none\" stroke=\"black\" cx=\"490\" cy=\"-18\" rx=\"27\" ry=\"18\"/>\n",
       "<text text-anchor=\"middle\" x=\"490\" y=\"-14.3\" font-family=\"Times New Roman,serif\" font-size=\"14.00\">3</text>\n",
       "</g>\n",
       "<!-- 0&#45;&gt;3 -->\n",
       "<g id=\"edge1\" class=\"edge\">\n",
       "<title>0&#45;&gt;3</title>\n",
       "<path fill=\"none\" stroke=\"black\" d=\"M365.48,-143.79C369.05,-124.41 377.26,-92.91 395,-72 410.98,-53.17 435.42,-39.74 455.52,-31.12\"/>\n",
       "<polygon fill=\"black\" stroke=\"black\" points=\"456.79,-34.38 464.75,-27.38 454.16,-27.89 456.79,-34.38\"/>\n",
       "</g>\n",
       "<!-- 10 -->\n",
       "<g id=\"node11\" class=\"node\">\n",
       "<title>10</title>\n",
       "<ellipse fill=\"none\" stroke=\"black\" cx=\"614\" cy=\"-90\" rx=\"27\" ry=\"18\"/>\n",
       "<text text-anchor=\"middle\" x=\"614\" y=\"-86.3\" font-family=\"Times New Roman,serif\" font-size=\"14.00\">10</text>\n",
       "</g>\n",
       "<!-- 0&#45;&gt;10 -->\n",
       "<g id=\"edge2\" class=\"edge\">\n",
       "<title>0&#45;&gt;10</title>\n",
       "<path fill=\"none\" stroke=\"black\" d=\"M384.02,-150.21C388.87,-147.97 394.05,-145.76 399,-144 459.89,-122.36 533.51,-106.29 576.89,-97.8\"/>\n",
       "<polygon fill=\"black\" stroke=\"black\" points=\"577.38,-101.27 586.54,-95.95 576.06,-94.4 577.38,-101.27\"/>\n",
       "</g>\n",
       "<!-- 13 -->\n",
       "<g id=\"node14\" class=\"node\">\n",
       "<title>13</title>\n",
       "<ellipse fill=\"none\" stroke=\"black\" cx=\"1178\" cy=\"-18\" rx=\"27\" ry=\"18\"/>\n",
       "<text text-anchor=\"middle\" x=\"1178\" y=\"-14.3\" font-family=\"Times New Roman,serif\" font-size=\"14.00\">13</text>\n",
       "</g>\n",
       "<!-- 0&#45;&gt;13 -->\n",
       "<g id=\"edge3\" class=\"edge\">\n",
       "<title>0&#45;&gt;13</title>\n",
       "<path fill=\"none\" stroke=\"black\" d=\"M379.13,-147.16C404.16,-126.59 454.72,-88.62 505,-72 624.12,-32.63 1014.7,-22.04 1139.38,-19.63\"/>\n",
       "<polygon fill=\"black\" stroke=\"black\" points=\"1139.15,-23.14 1149.08,-19.45 1139.02,-16.14 1139.15,-23.14\"/>\n",
       "</g>\n",
       "<!-- 1 -->\n",
       "<g id=\"node2\" class=\"node\">\n",
       "<title>1</title>\n",
       "<ellipse fill=\"none\" stroke=\"black\" cx=\"607\" cy=\"-306\" rx=\"27\" ry=\"18\"/>\n",
       "<text text-anchor=\"middle\" x=\"607\" y=\"-302.3\" font-family=\"Times New Roman,serif\" font-size=\"14.00\">1</text>\n",
       "</g>\n",
       "<!-- 1&#45;&gt;0 -->\n",
       "<g id=\"edge4\" class=\"edge\">\n",
       "<title>1&#45;&gt;0</title>\n",
       "<path fill=\"none\" stroke=\"black\" d=\"M581.1,-300.06C548.79,-293.06 492.7,-278.1 451,-252 423.49,-234.78 398.13,-207.36 381.77,-187.51\"/>\n",
       "<polygon fill=\"black\" stroke=\"black\" points=\"384.64,-185.49 375.65,-179.89 379.19,-189.88 384.64,-185.49\"/>\n",
       "</g>\n",
       "<!-- 1&#45;&gt;3 -->\n",
       "<g id=\"edge5\" class=\"edge\">\n",
       "<title>1&#45;&gt;3</title>\n",
       "<path fill=\"none\" stroke=\"black\" d=\"M579.72,-303.74C518.05,-299.18 369.92,-278.02 327,-180 306.14,-132.37 332.81,-106.18 372,-72 395.78,-51.26 428.99,-37.33 454.13,-28.97\"/>\n",
       "<polygon fill=\"black\" stroke=\"black\" points=\"455.12,-32.33 463.6,-25.97 453.01,-25.65 455.12,-32.33\"/>\n",
       "</g>\n",
       "<!-- 5 -->\n",
       "<g id=\"node6\" class=\"node\">\n",
       "<title>5</title>\n",
       "<ellipse fill=\"none\" stroke=\"black\" cx=\"435\" cy=\"-162\" rx=\"27\" ry=\"18\"/>\n",
       "<text text-anchor=\"middle\" x=\"435\" y=\"-158.3\" font-family=\"Times New Roman,serif\" font-size=\"14.00\">5</text>\n",
       "</g>\n",
       "<!-- 1&#45;&gt;5 -->\n",
       "<g id=\"edge6\" class=\"edge\">\n",
       "<title>1&#45;&gt;5</title>\n",
       "<path fill=\"none\" stroke=\"black\" d=\"M581.21,-299.85C553.28,-293.1 508.87,-278.84 480,-252 462.17,-235.42 450.35,-210.2 443.32,-190.84\"/>\n",
       "<polygon fill=\"black\" stroke=\"black\" points=\"446.64,-189.73 440.12,-181.38 440.01,-191.98 446.64,-189.73\"/>\n",
       "</g>\n",
       "<!-- 7 -->\n",
       "<g id=\"node8\" class=\"node\">\n",
       "<title>7</title>\n",
       "<ellipse fill=\"none\" stroke=\"black\" cx=\"954\" cy=\"-90\" rx=\"27\" ry=\"18\"/>\n",
       "<text text-anchor=\"middle\" x=\"954\" y=\"-86.3\" font-family=\"Times New Roman,serif\" font-size=\"14.00\">7</text>\n",
       "</g>\n",
       "<!-- 1&#45;&gt;7 -->\n",
       "<g id=\"edge7\" class=\"edge\">\n",
       "<title>1&#45;&gt;7</title>\n",
       "<path fill=\"none\" stroke=\"black\" d=\"M622.33,-290.83C655.73,-260.55 738.45,-188.67 818,-144 850.43,-125.79 890.38,-111.04 918.57,-101.76\"/>\n",
       "<polygon fill=\"black\" stroke=\"black\" points=\"919.61,-105.11 928.05,-98.71 917.46,-98.44 919.61,-105.11\"/>\n",
       "</g>\n",
       "<!-- 8 -->\n",
       "<g id=\"node9\" class=\"node\">\n",
       "<title>8</title>\n",
       "<ellipse fill=\"none\" stroke=\"black\" cx=\"549\" cy=\"-234\" rx=\"27\" ry=\"18\"/>\n",
       "<text text-anchor=\"middle\" x=\"549\" y=\"-230.3\" font-family=\"Times New Roman,serif\" font-size=\"14.00\">8</text>\n",
       "</g>\n",
       "<!-- 1&#45;&gt;8 -->\n",
       "<g id=\"edge8\" class=\"edge\">\n",
       "<title>1&#45;&gt;8</title>\n",
       "<path fill=\"none\" stroke=\"black\" d=\"M594.41,-289.81C586.89,-280.73 577.17,-269 568.65,-258.72\"/>\n",
       "<polygon fill=\"black\" stroke=\"black\" points=\"571.6,-256.79 562.53,-251.32 566.21,-261.26 571.6,-256.79\"/>\n",
       "</g>\n",
       "<!-- 1&#45;&gt;10 -->\n",
       "<g id=\"edge9\" class=\"edge\">\n",
       "<title>1&#45;&gt;10</title>\n",
       "<path fill=\"none\" stroke=\"black\" d=\"M607.56,-287.85C608.76,-251.14 611.59,-164.66 613.07,-119.53\"/>\n",
       "<polygon fill=\"black\" stroke=\"black\" points=\"616.56,-119.85 613.39,-109.75 609.56,-119.63 616.56,-119.85\"/>\n",
       "</g>\n",
       "<!-- 11 -->\n",
       "<g id=\"node12\" class=\"node\">\n",
       "<title>11</title>\n",
       "<ellipse fill=\"none\" stroke=\"black\" cx=\"1279\" cy=\"-162\" rx=\"27\" ry=\"18\"/>\n",
       "<text text-anchor=\"middle\" x=\"1279\" y=\"-158.3\" font-family=\"Times New Roman,serif\" font-size=\"14.00\">11</text>\n",
       "</g>\n",
       "<!-- 1&#45;&gt;11 -->\n",
       "<g id=\"edge10\" class=\"edge\">\n",
       "<title>1&#45;&gt;11</title>\n",
       "<path fill=\"none\" stroke=\"black\" d=\"M633.97,-304.07C745.99,-300.03 1171.1,-282.76 1222,-252 1245.03,-238.08 1260.38,-210.91 1269.29,-190.23\"/>\n",
       "<polygon fill=\"black\" stroke=\"black\" points=\"1272.43,-191.81 1272.91,-181.23 1265.93,-189.2 1272.43,-191.81\"/>\n",
       "</g>\n",
       "<!-- 12 -->\n",
       "<g id=\"node13\" class=\"node\">\n",
       "<title>12</title>\n",
       "<ellipse fill=\"none\" stroke=\"black\" cx=\"1009\" cy=\"-162\" rx=\"27\" ry=\"18\"/>\n",
       "<text text-anchor=\"middle\" x=\"1009\" y=\"-158.3\" font-family=\"Times New Roman,serif\" font-size=\"14.00\">12</text>\n",
       "</g>\n",
       "<!-- 1&#45;&gt;12 -->\n",
       "<g id=\"edge11\" class=\"edge\">\n",
       "<title>1&#45;&gt;12</title>\n",
       "<path fill=\"none\" stroke=\"black\" d=\"M630.65,-296.65C698.72,-272.6 895.36,-203.14 974.96,-175.03\"/>\n",
       "<polygon fill=\"black\" stroke=\"black\" points=\"975.69,-178.48 983.96,-171.85 973.36,-171.88 975.69,-178.48\"/>\n",
       "</g>\n",
       "<!-- 1&#45;&gt;13 -->\n",
       "<g id=\"edge12\" class=\"edge\">\n",
       "<title>1&#45;&gt;13</title>\n",
       "<path fill=\"none\" stroke=\"black\" d=\"M634.07,-303.54C746.29,-297.38 1170.02,-272.79 1189,-252 1240.95,-195.11 1209.61,-94.09 1190.09,-45.96\"/>\n",
       "<polygon fill=\"black\" stroke=\"black\" points=\"1193.36,-44.71 1186.25,-36.84 1186.9,-47.42 1193.36,-44.71\"/>\n",
       "</g>\n",
       "<!-- 2 -->\n",
       "<g id=\"node3\" class=\"node\">\n",
       "<title>2</title>\n",
       "<ellipse fill=\"none\" stroke=\"black\" cx=\"405\" cy=\"-378\" rx=\"27\" ry=\"18\"/>\n",
       "<text text-anchor=\"middle\" x=\"405\" y=\"-374.3\" font-family=\"Times New Roman,serif\" font-size=\"14.00\">2</text>\n",
       "</g>\n",
       "<!-- 2&#45;&gt;0 -->\n",
       "<g id=\"edge13\" class=\"edge\">\n",
       "<title>2&#45;&gt;0</title>\n",
       "<path fill=\"none\" stroke=\"black\" d=\"M382.84,-367.38C346.82,-350.29 277.08,-310.85 252,-252 245.73,-237.28 243.46,-229.53 252,-216 268.17,-190.35 300.55,-176.85 326.19,-169.91\"/>\n",
       "<polygon fill=\"black\" stroke=\"black\" points=\"326.7,-173.39 335.58,-167.61 325.03,-166.59 326.7,-173.39\"/>\n",
       "</g>\n",
       "<!-- 2&#45;&gt;1 -->\n",
       "<g id=\"edge14\" class=\"edge\">\n",
       "<title>2&#45;&gt;1</title>\n",
       "<path fill=\"none\" stroke=\"black\" d=\"M428.57,-368.83C464.05,-356.54 531.4,-333.2 572.44,-318.98\"/>\n",
       "<polygon fill=\"black\" stroke=\"black\" points=\"573.54,-322.3 581.84,-315.72 571.25,-315.69 573.54,-322.3\"/>\n",
       "</g>\n",
       "<!-- 2&#45;&gt;3 -->\n",
       "<g id=\"edge15\" class=\"edge\">\n",
       "<title>2&#45;&gt;3</title>\n",
       "<path fill=\"none\" stroke=\"black\" d=\"M378.16,-374.01C343.21,-368.94 281.69,-355.91 240,-324 138.26,-246.13 15.72,-168.5 100,-72 122.98,-45.69 358.12,-27.59 451.79,-21.38\"/>\n",
       "<polygon fill=\"black\" stroke=\"black\" points=\"451.75,-24.89 461.5,-20.74 451.29,-17.9 451.75,-24.89\"/>\n",
       "</g>\n",
       "<!-- 2&#45;&gt;5 -->\n",
       "<g id=\"edge16\" class=\"edge\">\n",
       "<title>2&#45;&gt;5</title>\n",
       "<path fill=\"none\" stroke=\"black\" d=\"M389.02,-363.12C358.13,-334.56 295.98,-267.6 328,-216 329.11,-214.2 372.22,-193.19 403.38,-178.17\"/>\n",
       "<polygon fill=\"black\" stroke=\"black\" points=\"404.55,-181.49 412.04,-174 401.51,-175.19 404.55,-181.49\"/>\n",
       "</g>\n",
       "<!-- 2&#45;&gt;7 -->\n",
       "<g id=\"edge17\" class=\"edge\">\n",
       "<title>2&#45;&gt;7</title>\n",
       "<path fill=\"none\" stroke=\"black\" d=\"M423.1,-364.53C489.88,-318.56 720.51,-160.46 757,-144 785.62,-131.09 869.08,-110.64 917.7,-99.29\"/>\n",
       "<polygon fill=\"black\" stroke=\"black\" points=\"918.25,-102.75 927.2,-97.08 916.67,-95.94 918.25,-102.75\"/>\n",
       "</g>\n",
       "<!-- 2&#45;&gt;8 -->\n",
       "<g id=\"edge18\" class=\"edge\">\n",
       "<title>2&#45;&gt;8</title>\n",
       "<path fill=\"none\" stroke=\"black\" d=\"M413.68,-360.81C424.42,-341.81 444.11,-310.11 467,-288 482.14,-273.37 501.9,-260.46 518.22,-251.04\"/>\n",
       "<polygon fill=\"black\" stroke=\"black\" points=\"519.53,-254.32 526.55,-246.39 516.12,-248.21 519.53,-254.32\"/>\n",
       "</g>\n",
       "<!-- 2&#45;&gt;10 -->\n",
       "<g id=\"edge19\" class=\"edge\">\n",
       "<title>2&#45;&gt;10</title>\n",
       "<path fill=\"none\" stroke=\"black\" d=\"M378.87,-372.74C349.58,-366.7 302.35,-352.97 273,-324 237.55,-289 222.18,-261.26 243,-216 263.55,-171.33 282.63,-165.19 327,-144 409.59,-104.55 518.54,-94.38 575.51,-91.82\"/>\n",
       "<polygon fill=\"black\" stroke=\"black\" points=\"575.48,-95.32 585.34,-91.44 575.21,-88.33 575.48,-95.32\"/>\n",
       "</g>\n",
       "<!-- 2&#45;&gt;11 -->\n",
       "<g id=\"edge20\" class=\"edge\">\n",
       "<title>2&#45;&gt;11</title>\n",
       "<path fill=\"none\" stroke=\"black\" d=\"M432.24,-375.81C542.01,-370.88 952.14,-350.99 1079,-324 1084.85,-322.75 1278.55,-256.89 1282,-252 1294.41,-234.43 1292.44,-209.67 1288.06,-190.73\"/>\n",
       "<polygon fill=\"black\" stroke=\"black\" points=\"1291.5,-190.01 1285.52,-181.26 1284.74,-191.83 1291.5,-190.01\"/>\n",
       "</g>\n",
       "<!-- 2&#45;&gt;12 -->\n",
       "<g id=\"edge21\" class=\"edge\">\n",
       "<title>2&#45;&gt;12</title>\n",
       "<path fill=\"none\" stroke=\"black\" d=\"M431.07,-372.64C475.25,-364.92 567.39,-347.45 643,-324 724.9,-298.6 743.47,-286.44 822,-252 877.44,-227.68 940.85,-196.85 977.76,-178.6\"/>\n",
       "<polygon fill=\"black\" stroke=\"black\" points=\"979.12,-181.83 986.53,-174.25 976.01,-175.56 979.12,-181.83\"/>\n",
       "</g>\n",
       "<!-- 2&#45;&gt;13 -->\n",
       "<g id=\"edge22\" class=\"edge\">\n",
       "<title>2&#45;&gt;13</title>\n",
       "<path fill=\"none\" stroke=\"black\" d=\"M432.01,-375.76C547.81,-370.33 1002.75,-347.89 1144,-324 1293.78,-298.67 1474,-386.91 1474,-235 1474,-235 1474,-235 1474,-161 1474,-48 1296.48,-24.86 1216.39,-20.17\"/>\n",
       "<polygon fill=\"black\" stroke=\"black\" points=\"1216.99,-16.69 1206.83,-19.68 1216.64,-23.68 1216.99,-16.69\"/>\n",
       "</g>\n",
       "<!-- 4 -->\n",
       "<g id=\"node5\" class=\"node\">\n",
       "<title>4</title>\n",
       "<ellipse fill=\"none\" stroke=\"black\" cx=\"810\" cy=\"-378\" rx=\"27\" ry=\"18\"/>\n",
       "<text text-anchor=\"middle\" x=\"810\" y=\"-374.3\" font-family=\"Times New Roman,serif\" font-size=\"14.00\">4</text>\n",
       "</g>\n",
       "<!-- 4&#45;&gt;0 -->\n",
       "<g id=\"edge23\" class=\"edge\">\n",
       "<title>4&#45;&gt;0</title>\n",
       "<path fill=\"none\" stroke=\"black\" d=\"M782.91,-375.24C713.77,-370.36 532.68,-354.88 482,-324 429.19,-291.82 392.3,-226.59 374.71,-189.81\"/>\n",
       "<polygon fill=\"black\" stroke=\"black\" points=\"378.09,-188.77 370.71,-181.17 371.74,-191.72 378.09,-188.77\"/>\n",
       "</g>\n",
       "<!-- 4&#45;&gt;1 -->\n",
       "<g id=\"edge24\" class=\"edge\">\n",
       "<title>4&#45;&gt;1</title>\n",
       "<path fill=\"none\" stroke=\"black\" d=\"M785.99,-369.13C755.13,-358.96 699.92,-340.59 653,-324 648.99,-322.58 644.8,-321.07 640.64,-319.56\"/>\n",
       "<polygon fill=\"black\" stroke=\"black\" points=\"641.9,-316.29 631.3,-316.12 639.48,-322.86 641.9,-316.29\"/>\n",
       "</g>\n",
       "<!-- 4&#45;&gt;3 -->\n",
       "<g id=\"edge25\" class=\"edge\">\n",
       "<title>4&#45;&gt;3</title>\n",
       "<path fill=\"none\" stroke=\"black\" d=\"M782.94,-375.65C707.56,-371.5 496.77,-357.16 437,-324 363.9,-283.44 344.62,-258.54 316,-180 299.39,-134.41 299.54,-108.06 332,-72 362.57,-38.04 415.54,-25.81 451.65,-21.42\"/>\n",
       "<polygon fill=\"black\" stroke=\"black\" points=\"451.65,-24.94 461.22,-20.42 450.91,-17.98 451.65,-24.94\"/>\n",
       "</g>\n",
       "<!-- 4&#45;&gt;5 -->\n",
       "<g id=\"edge26\" class=\"edge\">\n",
       "<title>4&#45;&gt;5</title>\n",
       "<path fill=\"none\" stroke=\"black\" d=\"M783.36,-373.94C738.32,-368.14 644.83,-353.43 571,-324 513.22,-300.97 486.33,-303.19 451,-252 438.86,-234.41 435.1,-210.35 434.25,-191.68\"/>\n",
       "<polygon fill=\"black\" stroke=\"black\" points=\"437.76,-191.76 434.08,-181.83 430.76,-191.89 437.76,-191.76\"/>\n",
       "</g>\n",
       "<!-- 6 -->\n",
       "<g id=\"node7\" class=\"node\">\n",
       "<title>6</title>\n",
       "<ellipse fill=\"none\" stroke=\"black\" cx=\"1043\" cy=\"-306\" rx=\"27\" ry=\"18\"/>\n",
       "<text text-anchor=\"middle\" x=\"1043\" y=\"-302.3\" font-family=\"Times New Roman,serif\" font-size=\"14.00\">6</text>\n",
       "</g>\n",
       "<!-- 4&#45;&gt;6 -->\n",
       "<g id=\"edge27\" class=\"edge\">\n",
       "<title>4&#45;&gt;6</title>\n",
       "<path fill=\"none\" stroke=\"black\" d=\"M835.46,-371.04C872.52,-362.12 943.3,-344.18 1002,-324 1004.74,-323.06 1007.56,-322.02 1010.38,-320.95\"/>\n",
       "<polygon fill=\"black\" stroke=\"black\" points=\"1011.67,-324.2 1019.66,-317.24 1009.07,-317.7 1011.67,-324.2\"/>\n",
       "</g>\n",
       "<!-- 4&#45;&gt;7 -->\n",
       "<g id=\"edge28\" class=\"edge\">\n",
       "<title>4&#45;&gt;7</title>\n",
       "<path fill=\"none\" stroke=\"black\" d=\"M818.36,-360.39C842.33,-312.79 911.4,-175.61 940.65,-117.51\"/>\n",
       "<polygon fill=\"black\" stroke=\"black\" points=\"943.74,-119.16 945.11,-108.65 937.49,-116.01 943.74,-119.16\"/>\n",
       "</g>\n",
       "<!-- 4&#45;&gt;8 -->\n",
       "<g id=\"edge29\" class=\"edge\">\n",
       "<title>4&#45;&gt;8</title>\n",
       "<path fill=\"none\" stroke=\"black\" d=\"M789.52,-365.86C743.78,-340.97 633.12,-280.77 579.35,-251.51\"/>\n",
       "<polygon fill=\"black\" stroke=\"black\" points=\"581.17,-248.52 570.71,-246.81 577.83,-254.67 581.17,-248.52\"/>\n",
       "</g>\n",
       "<!-- 4&#45;&gt;10 -->\n",
       "<g id=\"edge30\" class=\"edge\">\n",
       "<title>4&#45;&gt;10</title>\n",
       "<path fill=\"none\" stroke=\"black\" d=\"M803.8,-360.1C792.24,-329.73 765.51,-264.58 732,-216 704.26,-175.79 663.75,-135.89 638.14,-112.35\"/>\n",
       "<polygon fill=\"black\" stroke=\"black\" points=\"640.62,-109.88 630.87,-105.75 635.92,-115.06 640.62,-109.88\"/>\n",
       "</g>\n",
       "<!-- 4&#45;&gt;11 -->\n",
       "<g id=\"edge31\" class=\"edge\">\n",
       "<title>4&#45;&gt;11</title>\n",
       "<path fill=\"none\" stroke=\"black\" d=\"M837.01,-375.05C935.91,-367.28 1275.72,-334.81 1336,-252 1345.42,-239.06 1342.39,-230.67 1336,-216 1330.05,-202.35 1318.67,-190.64 1307.63,-181.72\"/>\n",
       "<polygon fill=\"black\" stroke=\"black\" points=\"1309.87,-179.02 1299.78,-175.81 1305.67,-184.62 1309.87,-179.02\"/>\n",
       "</g>\n",
       "<!-- 4&#45;&gt;12 -->\n",
       "<g id=\"edge32\" class=\"edge\">\n",
       "<title>4&#45;&gt;12</title>\n",
       "<path fill=\"none\" stroke=\"black\" d=\"M829.01,-364.65C859.53,-344.11 920.1,-300.38 960,-252 975.59,-233.09 988.7,-208.49 997.42,-189.95\"/>\n",
       "<polygon fill=\"black\" stroke=\"black\" points=\"1000.56,-191.48 1001.52,-180.93 994.19,-188.58 1000.56,-191.48\"/>\n",
       "</g>\n",
       "<!-- 4&#45;&gt;13 -->\n",
       "<g id=\"edge33\" class=\"edge\">\n",
       "<title>4&#45;&gt;13</title>\n",
       "<path fill=\"none\" stroke=\"black\" d=\"M837.11,-375.75C960.31,-369.97 1462.5,-345.16 1488,-324 1519.53,-297.84 1512,-275.97 1512,-235 1512,-235 1512,-235 1512,-161 1512,-120.03 1518.3,-99.58 1488,-72 1448.71,-36.24 1290.04,-24.22 1216.18,-20.51\"/>\n",
       "<polygon fill=\"black\" stroke=\"black\" points=\"1216.75,-17.04 1206.59,-20.06 1216.41,-24.03 1216.75,-17.04\"/>\n",
       "</g>\n",
       "<!-- 14 -->\n",
       "<g id=\"node15\" class=\"node\">\n",
       "<title>14</title>\n",
       "<ellipse fill=\"none\" stroke=\"black\" cx=\"1153\" cy=\"-234\" rx=\"27\" ry=\"18\"/>\n",
       "<text text-anchor=\"middle\" x=\"1153\" y=\"-230.3\" font-family=\"Times New Roman,serif\" font-size=\"14.00\">14</text>\n",
       "</g>\n",
       "<!-- 4&#45;&gt;14 -->\n",
       "<g id=\"edge34\" class=\"edge\">\n",
       "<title>4&#45;&gt;14</title>\n",
       "<path fill=\"none\" stroke=\"black\" d=\"M837.3,-377.47C888.4,-377.14 1000.42,-370.66 1079,-324 1104.57,-308.82 1125.31,-281.44 1138.25,-261.05\"/>\n",
       "<polygon fill=\"black\" stroke=\"black\" points=\"1141.13,-263.06 1143.35,-252.7 1135.15,-259.41 1141.13,-263.06\"/>\n",
       "</g>\n",
       "<!-- 5&#45;&gt;3 -->\n",
       "<g id=\"edge35\" class=\"edge\">\n",
       "<title>5&#45;&gt;3</title>\n",
       "<path fill=\"none\" stroke=\"black\" d=\"M441.53,-144.15C450.87,-120.03 468.17,-75.36 479.38,-46.43\"/>\n",
       "<polygon fill=\"black\" stroke=\"black\" points=\"482.59,-47.83 482.94,-37.24 476.06,-45.3 482.59,-47.83\"/>\n",
       "</g>\n",
       "<!-- 5&#45;&gt;13 -->\n",
       "<g id=\"edge36\" class=\"edge\">\n",
       "<title>5&#45;&gt;13</title>\n",
       "<path fill=\"none\" stroke=\"black\" d=\"M451.28,-147.22C476.54,-126.73 527.52,-88.86 578,-72 682.89,-36.96 1024.05,-23.64 1139.45,-20.07\"/>\n",
       "<polygon fill=\"black\" stroke=\"black\" points=\"1139.43,-23.57 1149.32,-19.77 1139.21,-16.58 1139.43,-23.57\"/>\n",
       "</g>\n",
       "<!-- 6&#45;&gt;3 -->\n",
       "<g id=\"edge37\" class=\"edge\">\n",
       "<title>6&#45;&gt;3</title>\n",
       "<path fill=\"none\" stroke=\"black\" d=\"M1028.3,-290.74C996.24,-260.29 916.7,-188.08 839,-144 760.82,-99.64 734.69,-102.14 650,-72 607.21,-56.77 557.5,-40.53 524.98,-30.1\"/>\n",
       "<polygon fill=\"black\" stroke=\"black\" points=\"526.27,-26.83 515.68,-27.12 524.14,-33.5 526.27,-26.83\"/>\n",
       "</g>\n",
       "<!-- 6&#45;&gt;5 -->\n",
       "<g id=\"edge38\" class=\"edge\">\n",
       "<title>6&#45;&gt;5</title>\n",
       "<path fill=\"none\" stroke=\"black\" d=\"M1015.73,-304.88C920.26,-304.06 602.1,-297.87 513,-252 509.16,-250.02 476.7,-212.24 454.89,-186.54\"/>\n",
       "<polygon fill=\"black\" stroke=\"black\" points=\"457.79,-184.56 448.66,-179.19 452.45,-189.08 457.79,-184.56\"/>\n",
       "</g>\n",
       "<!-- 6&#45;&gt;7 -->\n",
       "<g id=\"edge39\" class=\"edge\">\n",
       "<title>6&#45;&gt;7</title>\n",
       "<path fill=\"none\" stroke=\"black\" d=\"M1032.07,-289.18C1016.67,-266.18 988.7,-221.66 973,-180 965.62,-160.42 960.79,-137.28 957.85,-119.5\"/>\n",
       "<polygon fill=\"black\" stroke=\"black\" points=\"961.31,-119.01 956.33,-109.66 954.4,-120.07 961.31,-119.01\"/>\n",
       "</g>\n",
       "<!-- 6&#45;&gt;10 -->\n",
       "<g id=\"edge40\" class=\"edge\">\n",
       "<title>6&#45;&gt;10</title>\n",
       "<path fill=\"none\" stroke=\"black\" d=\"M1016.99,-300.32C985.54,-293.68 932.1,-279.2 894,-252 844.06,-216.35 859.24,-177.75 808,-144 760,-112.38 693.5,-99.51 652.15,-94.35\"/>\n",
       "<polygon fill=\"black\" stroke=\"black\" points=\"652.77,-90.9 642.44,-93.24 651.98,-97.85 652.77,-90.9\"/>\n",
       "</g>\n",
       "<!-- 6&#45;&gt;11 -->\n",
       "<g id=\"edge41\" class=\"edge\">\n",
       "<title>6&#45;&gt;11</title>\n",
       "<path fill=\"none\" stroke=\"black\" d=\"M1068.64,-299.5C1124.6,-287.39 1253.25,-258.96 1260,-252 1275.41,-236.14 1279.65,-211.02 1280.32,-191.51\"/>\n",
       "<polygon fill=\"black\" stroke=\"black\" points=\"1283.82,-191.74 1280.35,-181.73 1276.82,-191.72 1283.82,-191.74\"/>\n",
       "</g>\n",
       "<!-- 6&#45;&gt;12 -->\n",
       "<g id=\"edge42\" class=\"edge\">\n",
       "<title>6&#45;&gt;12</title>\n",
       "<path fill=\"none\" stroke=\"black\" d=\"M1043.62,-287.59C1043.81,-269.39 1042.81,-240.17 1036,-216 1033.4,-206.78 1029.14,-197.27 1024.76,-188.91\"/>\n",
       "<polygon fill=\"black\" stroke=\"black\" points=\"1027.92,-187.39 1020,-180.35 1021.8,-190.79 1027.92,-187.39\"/>\n",
       "</g>\n",
       "<!-- 6&#45;&gt;13 -->\n",
       "<g id=\"edge43\" class=\"edge\">\n",
       "<title>6&#45;&gt;13</title>\n",
       "<path fill=\"none\" stroke=\"black\" d=\"M1069.62,-302.09C1124.83,-295.6 1249.36,-278.38 1282,-252 1309.38,-229.88 1307.49,-214.39 1315,-180 1326.71,-126.35 1295.57,-109 1255,-72 1240.34,-58.63 1222.13,-45.95 1207.1,-36.34\"/>\n",
       "<polygon fill=\"black\" stroke=\"black\" points=\"1209.37,-33.63 1199.03,-31.3 1205.66,-39.57 1209.37,-33.63\"/>\n",
       "</g>\n",
       "<!-- 6&#45;&gt;14 -->\n",
       "<g id=\"edge44\" class=\"edge\">\n",
       "<title>6&#45;&gt;14</title>\n",
       "<path fill=\"none\" stroke=\"black\" d=\"M1062.16,-292.81C1079.35,-281.87 1104.82,-265.66 1124.42,-253.19\"/>\n",
       "<polygon fill=\"black\" stroke=\"black\" points=\"1126.22,-256.19 1132.78,-247.87 1122.47,-250.28 1126.22,-256.19\"/>\n",
       "</g>\n",
       "<!-- 7&#45;&gt;3 -->\n",
       "<g id=\"edge45\" class=\"edge\">\n",
       "<title>7&#45;&gt;3</title>\n",
       "<path fill=\"none\" stroke=\"black\" d=\"M932.25,-78.71C926.14,-76.17 919.41,-73.7 913,-72 774.46,-35.32 603.48,-23.8 528.41,-20.37\"/>\n",
       "<polygon fill=\"black\" stroke=\"black\" points=\"528.86,-16.89 518.71,-19.95 528.55,-23.88 528.86,-16.89\"/>\n",
       "</g>\n",
       "<!-- 7&#45;&gt;13 -->\n",
       "<g id=\"edge46\" class=\"edge\">\n",
       "<title>7&#45;&gt;13</title>\n",
       "<path fill=\"none\" stroke=\"black\" d=\"M977.97,-81.51C1017.61,-69.12 1097,-44.31 1142.95,-29.95\"/>\n",
       "<polygon fill=\"black\" stroke=\"black\" points=\"1143.92,-33.32 1152.42,-26.99 1141.83,-26.64 1143.92,-33.32\"/>\n",
       "</g>\n",
       "<!-- 8&#45;&gt;0 -->\n",
       "<g id=\"edge47\" class=\"edge\">\n",
       "<title>8&#45;&gt;0</title>\n",
       "<path fill=\"none\" stroke=\"black\" d=\"M524.82,-225.3C494.93,-215.58 442.68,-197.97 399,-180 397.48,-179.38 395.94,-178.72 394.38,-178.05\"/>\n",
       "<polygon fill=\"black\" stroke=\"black\" points=\"396.09,-174.98 385.54,-174.05 393.21,-181.36 396.09,-174.98\"/>\n",
       "</g>\n",
       "<!-- 8&#45;&gt;3 -->\n",
       "<g id=\"edge48\" class=\"edge\">\n",
       "<title>8&#45;&gt;3</title>\n",
       "<path fill=\"none\" stroke=\"black\" d=\"M544.27,-215.85C534.11,-178.98 510.09,-91.86 497.69,-46.91\"/>\n",
       "<polygon fill=\"black\" stroke=\"black\" points=\"501.1,-46.1 495.07,-37.39 494.36,-47.97 501.1,-46.1\"/>\n",
       "</g>\n",
       "<!-- 8&#45;&gt;5 -->\n",
       "<g id=\"edge49\" class=\"edge\">\n",
       "<title>8&#45;&gt;5</title>\n",
       "<path fill=\"none\" stroke=\"black\" d=\"M529.66,-221.13C511.73,-210.11 484.79,-193.57 464.23,-180.95\"/>\n",
       "<polygon fill=\"black\" stroke=\"black\" points=\"466.08,-177.97 455.72,-175.72 462.41,-183.94 466.08,-177.97\"/>\n",
       "</g>\n",
       "<!-- 8&#45;&gt;7 -->\n",
       "<g id=\"edge50\" class=\"edge\">\n",
       "<title>8&#45;&gt;7</title>\n",
       "<path fill=\"none\" stroke=\"black\" d=\"M566.68,-220.36C594.54,-201.04 650.96,-164.27 704,-144 776.32,-116.36 866.22,-101.77 916.12,-95.29\"/>\n",
       "<polygon fill=\"black\" stroke=\"black\" points=\"916.33,-98.79 925.82,-94.07 915.46,-91.84 916.33,-98.79\"/>\n",
       "</g>\n",
       "<!-- 8&#45;&gt;10 -->\n",
       "<g id=\"edge51\" class=\"edge\">\n",
       "<title>8&#45;&gt;10</title>\n",
       "<path fill=\"none\" stroke=\"black\" d=\"M545.67,-215.97C542.89,-197.31 540.94,-166.99 552,-144 559,-129.46 572.05,-117.36 584.38,-108.41\"/>\n",
       "<polygon fill=\"black\" stroke=\"black\" points=\"585.99,-111.55 592.3,-103.05 582.06,-105.76 585.99,-111.55\"/>\n",
       "</g>\n",
       "<!-- 8&#45;&gt;12 -->\n",
       "<g id=\"edge52\" class=\"edge\">\n",
       "<title>8&#45;&gt;12</title>\n",
       "<path fill=\"none\" stroke=\"black\" d=\"M575.38,-228.99C653.03,-217.17 880.96,-182.48 971.4,-168.72\"/>\n",
       "<polygon fill=\"black\" stroke=\"black\" points=\"971.87,-172.19 981.23,-167.23 970.81,-165.27 971.87,-172.19\"/>\n",
       "</g>\n",
       "<!-- 8&#45;&gt;13 -->\n",
       "<g id=\"edge53\" class=\"edge\">\n",
       "<title>8&#45;&gt;13</title>\n",
       "<path fill=\"none\" stroke=\"black\" d=\"M567.46,-220.8C595.88,-202.38 652.5,-167.18 704,-144 858.04,-74.67 1058.16,-37.71 1140.3,-24.6\"/>\n",
       "<polygon fill=\"black\" stroke=\"black\" points=\"1140.72,-28.07 1150.05,-23.07 1139.63,-21.16 1140.72,-28.07\"/>\n",
       "</g>\n",
       "<!-- 9 -->\n",
       "<g id=\"node10\" class=\"node\">\n",
       "<title>9</title>\n",
       "<ellipse fill=\"none\" stroke=\"black\" cx=\"810\" cy=\"-450\" rx=\"27\" ry=\"18\"/>\n",
       "<text text-anchor=\"middle\" x=\"810\" y=\"-446.3\" font-family=\"Times New Roman,serif\" font-size=\"14.00\">9</text>\n",
       "</g>\n",
       "<!-- 9&#45;&gt;0 -->\n",
       "<g id=\"edge54\" class=\"edge\">\n",
       "<title>9&#45;&gt;0</title>\n",
       "<path fill=\"none\" stroke=\"black\" d=\"M783.04,-447.73C685.31,-442.92 353.33,-424.58 316,-396 252.05,-347.04 256.19,-286.57 295,-216 303.42,-200.7 318.29,-188.33 331.98,-179.41\"/>\n",
       "<polygon fill=\"black\" stroke=\"black\" points=\"333.62,-182.51 340.34,-174.31 329.98,-176.53 333.62,-182.51\"/>\n",
       "</g>\n",
       "<!-- 9&#45;&gt;1 -->\n",
       "<g id=\"edge55\" class=\"edge\">\n",
       "<title>9&#45;&gt;1</title>\n",
       "<path fill=\"none\" stroke=\"black\" d=\"M786.76,-440.14C763.9,-430.87 728.51,-415.04 701,-396 673.27,-376.81 645.76,-349.55 627.74,-330.26\"/>\n",
       "<polygon fill=\"black\" stroke=\"black\" points=\"630.52,-328.13 621.18,-323.14 625.37,-332.87 630.52,-328.13\"/>\n",
       "</g>\n",
       "<!-- 9&#45;&gt;3 -->\n",
       "<g id=\"edge56\" class=\"edge\">\n",
       "<title>9&#45;&gt;3</title>\n",
       "<path fill=\"none\" stroke=\"black\" d=\"M782.67,-448.27C703.87,-445.73 469.72,-435.19 280,-396 152.12,-369.58 0,-437.58 0,-307 0,-307 0,-307 0,-161 0,-109.56 28.9,-96.75 74,-72 138.6,-36.55 361.11,-24.02 451.44,-20.33\"/>\n",
       "<polygon fill=\"black\" stroke=\"black\" points=\"451.41,-23.84 461.27,-19.95 451.14,-16.84 451.41,-23.84\"/>\n",
       "</g>\n",
       "<!-- 9&#45;&gt;4 -->\n",
       "<g id=\"edge57\" class=\"edge\">\n",
       "<title>9&#45;&gt;4</title>\n",
       "<path fill=\"none\" stroke=\"black\" d=\"M810,-431.7C810,-424.41 810,-415.73 810,-407.54\"/>\n",
       "<polygon fill=\"black\" stroke=\"black\" points=\"813.5,-407.62 810,-397.62 806.5,-407.62 813.5,-407.62\"/>\n",
       "</g>\n",
       "<!-- 9&#45;&gt;5 -->\n",
       "<g id=\"edge58\" class=\"edge\">\n",
       "<title>9&#45;&gt;5</title>\n",
       "<path fill=\"none\" stroke=\"black\" d=\"M783.04,-447.63C689.91,-442.68 385.58,-424.42 353,-396 291.46,-342.31 271.19,-284.28 316,-216 338.06,-182.38 362.37,-196.59 399,-180 400.31,-179.41 401.65,-178.8 402.99,-178.18\"/>\n",
       "<polygon fill=\"black\" stroke=\"black\" points=\"404.39,-181.39 411.98,-174 401.43,-175.04 404.39,-181.39\"/>\n",
       "</g>\n",
       "<!-- 9&#45;&gt;6 -->\n",
       "<g id=\"edge59\" class=\"edge\">\n",
       "<title>9&#45;&gt;6</title>\n",
       "<path fill=\"none\" stroke=\"black\" d=\"M829.46,-437.14C870.41,-412.18 965.64,-354.14 1013.88,-324.75\"/>\n",
       "<polygon fill=\"black\" stroke=\"black\" points=\"1015.42,-327.91 1022.13,-319.72 1011.77,-321.93 1015.42,-327.91\"/>\n",
       "</g>\n",
       "<!-- 9&#45;&gt;7 -->\n",
       "<g id=\"edge60\" class=\"edge\">\n",
       "<title>9&#45;&gt;7</title>\n",
       "<path fill=\"none\" stroke=\"black\" d=\"M837.27,-448.78C901.97,-447.52 1069.14,-439.91 1200,-396 1293.23,-364.72 1343.33,-347.2 1368,-252 1381.41,-200.24 1360.83,-171.54 1315,-144 1261.17,-111.66 1074.15,-97.62 992.56,-92.94\"/>\n",
       "<polygon fill=\"black\" stroke=\"black\" points=\"992.78,-89.44 982.6,-92.38 992.39,-96.43 992.78,-89.44\"/>\n",
       "</g>\n",
       "<!-- 9&#45;&gt;8 -->\n",
       "<g id=\"edge61\" class=\"edge\">\n",
       "<title>9&#45;&gt;8</title>\n",
       "<path fill=\"none\" stroke=\"black\" d=\"M782.77,-447.79C690.91,-443.43 396.6,-427.12 369,-396 314.56,-334.62 448.51,-273.01 514.66,-247.38\"/>\n",
       "<polygon fill=\"black\" stroke=\"black\" points=\"515.89,-250.66 524,-243.84 513.4,-244.11 515.89,-250.66\"/>\n",
       "</g>\n",
       "<!-- 9&#45;&gt;10 -->\n",
       "<g id=\"edge62\" class=\"edge\">\n",
       "<title>9&#45;&gt;10</title>\n",
       "<path fill=\"none\" stroke=\"black\" d=\"M798.81,-433.53C791.45,-423.12 781.78,-408.98 774,-396 714.04,-295.95 652.56,-171.29 626.69,-117.61\"/>\n",
       "<polygon fill=\"black\" stroke=\"black\" points=\"630,-116.42 622.52,-108.92 623.69,-119.45 630,-116.42\"/>\n",
       "</g>\n",
       "<!-- 9&#45;&gt;11 -->\n",
       "<g id=\"edge63\" class=\"edge\">\n",
       "<title>9&#45;&gt;11</title>\n",
       "<path fill=\"none\" stroke=\"black\" d=\"M837.22,-448.25C894.52,-445.88 1031.04,-436.12 1137,-396 1244.55,-355.27 1299.33,-354.24 1352,-252 1359.33,-237.78 1359.27,-230.25 1352,-216 1343.36,-199.06 1326.5,-186.27 1311.16,-177.5\"/>\n",
       "<polygon fill=\"black\" stroke=\"black\" points=\"1313.2,-174.62 1302.73,-173.02 1309.92,-180.8 1313.2,-174.62\"/>\n",
       "</g>\n",
       "<!-- 9&#45;&gt;12 -->\n",
       "<g id=\"edge64\" class=\"edge\">\n",
       "<title>9&#45;&gt;12</title>\n",
       "<path fill=\"none\" stroke=\"black\" d=\"M836.6,-446.14C893.46,-438.42 1026.01,-411.42 1079,-324 1107.31,-277.3 1061.71,-217.12 1031.79,-185.19\"/>\n",
       "<polygon fill=\"black\" stroke=\"black\" points=\"1034.36,-182.81 1024.89,-178.06 1029.32,-187.68 1034.36,-182.81\"/>\n",
       "</g>\n",
       "<!-- 9&#45;&gt;13 -->\n",
       "<g id=\"edge65\" class=\"edge\">\n",
       "<title>9&#45;&gt;13</title>\n",
       "<path fill=\"none\" stroke=\"black\" d=\"M836.78,-447.02C973.58,-436.53 1588,-385.09 1588,-307 1588,-307 1588,-307 1588,-161 1588,-109.27 1558.05,-97.42 1513,-72 1462.7,-43.62 1292.76,-27.61 1216.09,-21.68\"/>\n",
       "<polygon fill=\"black\" stroke=\"black\" points=\"1216.79,-18.22 1206.56,-20.96 1216.26,-25.2 1216.79,-18.22\"/>\n",
       "</g>\n",
       "<!-- 9&#45;&gt;14 -->\n",
       "<g id=\"edge66\" class=\"edge\">\n",
       "<title>9&#45;&gt;14</title>\n",
       "<path fill=\"none\" stroke=\"black\" d=\"M836.9,-447.92C903.23,-444.71 1072.08,-433 1112,-396 1148.77,-361.91 1154.51,-299.87 1154.4,-263.57\"/>\n",
       "<polygon fill=\"black\" stroke=\"black\" points=\"1157.91,-263.76 1154.21,-253.83 1150.91,-263.9 1157.91,-263.76\"/>\n",
       "</g>\n",
       "<!-- 10&#45;&gt;3 -->\n",
       "<g id=\"edge67\" class=\"edge\">\n",
       "<title>10&#45;&gt;3</title>\n",
       "<path fill=\"none\" stroke=\"black\" d=\"M593.8,-77.6C573.81,-66.31 542.95,-48.89 520.07,-35.98\"/>\n",
       "<polygon fill=\"black\" stroke=\"black\" points=\"521.94,-33.01 511.51,-31.14 518.5,-39.11 521.94,-33.01\"/>\n",
       "</g>\n",
       "<!-- 10&#45;&gt;13 -->\n",
       "<g id=\"edge68\" class=\"edge\">\n",
       "<title>10&#45;&gt;13</title>\n",
       "<path fill=\"none\" stroke=\"black\" d=\"M637.27,-80.22C646.14,-77.18 656.43,-74.04 666,-72 840.27,-34.94 1053.64,-23.46 1139.51,-20.19\"/>\n",
       "<polygon fill=\"black\" stroke=\"black\" points=\"1139.38,-23.7 1149.25,-19.84 1139.13,-16.7 1139.38,-23.7\"/>\n",
       "</g>\n",
       "<!-- 11&#45;&gt;3 -->\n",
       "<g id=\"edge69\" class=\"edge\">\n",
       "<title>11&#45;&gt;3</title>\n",
       "<path fill=\"none\" stroke=\"black\" d=\"M1258.97,-149.46C1223.7,-129.76 1147.64,-90.03 1078,-72 876.03,-19.7 623.51,-17.06 528.51,-18.18\"/>\n",
       "<polygon fill=\"black\" stroke=\"black\" points=\"528.66,-14.67 518.71,-18.32 528.76,-21.67 528.66,-14.67\"/>\n",
       "</g>\n",
       "<!-- 11&#45;&gt;13 -->\n",
       "<g id=\"edge70\" class=\"edge\">\n",
       "<title>11&#45;&gt;13</title>\n",
       "<path fill=\"none\" stroke=\"black\" d=\"M1271.57,-144.45C1262.89,-125.94 1247.48,-95.49 1230,-72 1221.75,-60.91 1211.3,-49.82 1201.93,-40.67\"/>\n",
       "<polygon fill=\"black\" stroke=\"black\" points=\"1204.48,-38.26 1194.82,-33.91 1199.65,-43.34 1204.48,-38.26\"/>\n",
       "</g>\n",
       "<!-- 12&#45;&gt;3 -->\n",
       "<g id=\"edge71\" class=\"edge\">\n",
       "<title>12&#45;&gt;3</title>\n",
       "<path fill=\"none\" stroke=\"black\" d=\"M1010.77,-143.7C1011.79,-123.32 1009.96,-89.97 990,-72 955.85,-41.25 639.57,-25.23 528.41,-20.51\"/>\n",
       "<polygon fill=\"black\" stroke=\"black\" points=\"528.75,-17.02 518.61,-20.1 528.46,-24.01 528.75,-17.02\"/>\n",
       "</g>\n",
       "<!-- 12&#45;&gt;7 -->\n",
       "<g id=\"edge72\" class=\"edge\">\n",
       "<title>12&#45;&gt;7</title>\n",
       "<path fill=\"none\" stroke=\"black\" d=\"M996.79,-145.46C989.89,-136.67 981.09,-125.48 973.27,-115.53\"/>\n",
       "<polygon fill=\"black\" stroke=\"black\" points=\"976.04,-113.38 967.11,-107.68 970.53,-117.71 976.04,-113.38\"/>\n",
       "</g>\n",
       "<!-- 12&#45;&gt;13 -->\n",
       "<g id=\"edge73\" class=\"edge\">\n",
       "<title>12&#45;&gt;13</title>\n",
       "<path fill=\"none\" stroke=\"black\" d=\"M1025.2,-147.38C1054.78,-122.53 1117.7,-69.66 1152.88,-40.11\"/>\n",
       "<polygon fill=\"black\" stroke=\"black\" points=\"1155.03,-42.87 1160.44,-33.76 1150.53,-37.51 1155.03,-42.87\"/>\n",
       "</g>\n",
       "<!-- 14&#45;&gt;3 -->\n",
       "<g id=\"edge74\" class=\"edge\">\n",
       "<title>14&#45;&gt;3</title>\n",
       "<path fill=\"none\" stroke=\"black\" d=\"M1147.74,-215.87C1141.3,-196.85 1128.98,-165.94 1111,-144 1093.98,-123.24 1039.03,-81.7 1014,-72 925.23,-37.6 634.2,-24.1 528.66,-20.25\"/>\n",
       "<polygon fill=\"black\" stroke=\"black\" points=\"528.94,-16.76 518.82,-19.91 528.69,-23.76 528.94,-16.76\"/>\n",
       "</g>\n",
       "<!-- 14&#45;&gt;5 -->\n",
       "<g id=\"edge75\" class=\"edge\">\n",
       "<title>14&#45;&gt;5</title>\n",
       "<path fill=\"none\" stroke=\"black\" d=\"M1126.16,-230.38C1016.3,-219.67 600.65,-179.15 472.71,-166.68\"/>\n",
       "<polygon fill=\"black\" stroke=\"black\" points=\"473.39,-163.23 463.1,-165.74 472.71,-170.19 473.39,-163.23\"/>\n",
       "</g>\n",
       "<!-- 14&#45;&gt;7 -->\n",
       "<g id=\"edge76\" class=\"edge\">\n",
       "<title>14&#45;&gt;7</title>\n",
       "<path fill=\"none\" stroke=\"black\" d=\"M1142.87,-216.88C1129.91,-197.36 1105.77,-164.56 1078,-144 1051.12,-124.1 1015.62,-109.91 989.5,-101.25\"/>\n",
       "<polygon fill=\"black\" stroke=\"black\" points=\"990.61,-97.93 980.02,-98.22 988.48,-104.6 990.61,-97.93\"/>\n",
       "</g>\n",
       "<!-- 14&#45;&gt;10 -->\n",
       "<g id=\"edge77\" class=\"edge\">\n",
       "<title>14&#45;&gt;10</title>\n",
       "<path fill=\"none\" stroke=\"black\" d=\"M1133.67,-220.99C1118.01,-210.87 1095.71,-195.6 1078,-180 1061.71,-165.66 1064.3,-153.94 1045,-144 976.86,-108.9 745.05,-96.12 652.56,-92.35\"/>\n",
       "<polygon fill=\"black\" stroke=\"black\" points=\"652.87,-88.86 642.74,-91.96 652.6,-95.85 652.87,-88.86\"/>\n",
       "</g>\n",
       "<!-- 14&#45;&gt;11 -->\n",
       "<g id=\"edge78\" class=\"edge\">\n",
       "<title>14&#45;&gt;11</title>\n",
       "<path fill=\"none\" stroke=\"black\" d=\"M1173.24,-221.75C1193.73,-210.37 1225.62,-192.65 1249.03,-179.65\"/>\n",
       "<polygon fill=\"black\" stroke=\"black\" points=\"1250.44,-182.87 1257.48,-174.95 1247.04,-176.75 1250.44,-182.87\"/>\n",
       "</g>\n",
       "<!-- 14&#45;&gt;12 -->\n",
       "<g id=\"edge79\" class=\"edge\">\n",
       "<title>14&#45;&gt;12</title>\n",
       "<path fill=\"none\" stroke=\"black\" d=\"M1131.44,-222.52C1107.34,-210.8 1068.08,-191.72 1040.53,-178.32\"/>\n",
       "<polygon fill=\"black\" stroke=\"black\" points=\"1042.12,-175.21 1031.6,-173.98 1039.06,-181.5 1042.12,-175.21\"/>\n",
       "</g>\n",
       "<!-- 14&#45;&gt;13 -->\n",
       "<g id=\"edge80\" class=\"edge\">\n",
       "<title>14&#45;&gt;13</title>\n",
       "<path fill=\"none\" stroke=\"black\" d=\"M1155,-215.85C1159.29,-179.14 1169.39,-92.66 1174.67,-47.53\"/>\n",
       "<polygon fill=\"black\" stroke=\"black\" points=\"1178.13,-48.07 1175.81,-37.74 1171.17,-47.26 1178.13,-48.07\"/>\n",
       "</g>\n",
       "</g>\n",
       "</svg>\n"
      ],
      "text/plain": [
       "<graphviz.graphs.Digraph at 0x1940cfb16c0>"
      ]
     },
     "execution_count": 68,
     "metadata": {},
     "output_type": "execute_result"
    }
   ],
   "source": [
    "import graphviz\n",
    "f = graphviz.Digraph()\n",
    "for _, n in pos:\n",
    "    f.node(str(n))\n",
    "for i in range(len(pos)):\n",
    "    for j in range(len(pos)):\n",
    "        if M[i][j] == 1:\n",
    "            f.edge(str(i), str(j))\n",
    "        #elif M[i][j] == -1:\n",
    "        #    f.edge(str(j), str(i))\n",
    "f"
   ]
  },
  {
   "cell_type": "code",
   "execution_count": 60,
   "id": "473b1410",
   "metadata": {},
   "outputs": [
    {
     "name": "stdout",
     "output_type": "stream",
     "text": [
      "[(5.339733994387753, 9), (4.380569569005102, 2), (4.3374999999999995, 4), (2.290561224489797, 6), (2.1583295605867345, 14), (1.7589916223214273, 1), (0.9082567133928574, 8), (-1.209729564285714, 12), (-1.3051920511479596, 0), (-1.5679751910714304, 11), (-1.7279137005102037, 5), (-2.1494746698979594, 10), (-2.3993202140306127, 7), (-5.189583953954082, 13), (-5.624753339285714, 3)]\n",
      "9 --> 2 --> 4 --> 6 --> 14 --> 1 --> 8 --> 12 --> 0 --> 11 --> 5 --> 10 --> 7 --> 13 --> 3 --> {end}\n"
     ]
    }
   ],
   "source": [
    "#PROMETHEE II\n",
    "phi = [(pos_phi - neg_phi, alternative) for (pos_phi, alternative), (neg_phi, _) in zip(pos, neg)]\n",
    "phi.sort(reverse = True)\n",
    "print(phi)\n",
    "for _, alternative in phi:\n",
    "    print(alternative, \"-->\", end = \" \")\n",
    "print(\"{end}\")"
   ]
  },
  {
   "cell_type": "code",
   "execution_count": 61,
   "id": "8b08b27d",
   "metadata": {},
   "outputs": [
    {
     "data": {
      "image/svg+xml": [
       "<?xml version=\"1.0\" encoding=\"UTF-8\" standalone=\"no\"?>\n",
       "<!DOCTYPE svg PUBLIC \"-//W3C//DTD SVG 1.1//EN\"\n",
       " \"http://www.w3.org/Graphics/SVG/1.1/DTD/svg11.dtd\">\n",
       "<!-- Generated by graphviz version 7.1.0 (20230121.1956)\n",
       " -->\n",
       "<!-- Pages: 1 -->\n",
       "<svg width=\"62pt\" height=\"1052pt\"\n",
       " viewBox=\"0.00 0.00 62.00 1052.00\" xmlns=\"http://www.w3.org/2000/svg\" xmlns:xlink=\"http://www.w3.org/1999/xlink\">\n",
       "<g id=\"graph0\" class=\"graph\" transform=\"scale(1 1) rotate(0) translate(4 1048)\">\n",
       "<polygon fill=\"white\" stroke=\"none\" points=\"-4,4 -4,-1048 58,-1048 58,4 -4,4\"/>\n",
       "<!-- 9 -->\n",
       "<g id=\"node1\" class=\"node\">\n",
       "<title>9</title>\n",
       "<ellipse fill=\"none\" stroke=\"black\" cx=\"27\" cy=\"-1026\" rx=\"27\" ry=\"18\"/>\n",
       "<text text-anchor=\"middle\" x=\"27\" y=\"-1022.3\" font-family=\"Times New Roman,serif\" font-size=\"14.00\">9</text>\n",
       "</g>\n",
       "<!-- 2 -->\n",
       "<g id=\"node2\" class=\"node\">\n",
       "<title>2</title>\n",
       "<ellipse fill=\"none\" stroke=\"black\" cx=\"27\" cy=\"-954\" rx=\"27\" ry=\"18\"/>\n",
       "<text text-anchor=\"middle\" x=\"27\" y=\"-950.3\" font-family=\"Times New Roman,serif\" font-size=\"14.00\">2</text>\n",
       "</g>\n",
       "<!-- 9&#45;&gt;2 -->\n",
       "<g id=\"edge1\" class=\"edge\">\n",
       "<title>9&#45;&gt;2</title>\n",
       "<path fill=\"none\" stroke=\"black\" d=\"M27,-1007.7C27,-1000.41 27,-991.73 27,-983.54\"/>\n",
       "<polygon fill=\"black\" stroke=\"black\" points=\"30.5,-983.62 27,-973.62 23.5,-983.62 30.5,-983.62\"/>\n",
       "</g>\n",
       "<!-- 4 -->\n",
       "<g id=\"node3\" class=\"node\">\n",
       "<title>4</title>\n",
       "<ellipse fill=\"none\" stroke=\"black\" cx=\"27\" cy=\"-882\" rx=\"27\" ry=\"18\"/>\n",
       "<text text-anchor=\"middle\" x=\"27\" y=\"-878.3\" font-family=\"Times New Roman,serif\" font-size=\"14.00\">4</text>\n",
       "</g>\n",
       "<!-- 2&#45;&gt;4 -->\n",
       "<g id=\"edge2\" class=\"edge\">\n",
       "<title>2&#45;&gt;4</title>\n",
       "<path fill=\"none\" stroke=\"black\" d=\"M27,-935.7C27,-928.41 27,-919.73 27,-911.54\"/>\n",
       "<polygon fill=\"black\" stroke=\"black\" points=\"30.5,-911.62 27,-901.62 23.5,-911.62 30.5,-911.62\"/>\n",
       "</g>\n",
       "<!-- 6 -->\n",
       "<g id=\"node4\" class=\"node\">\n",
       "<title>6</title>\n",
       "<ellipse fill=\"none\" stroke=\"black\" cx=\"27\" cy=\"-810\" rx=\"27\" ry=\"18\"/>\n",
       "<text text-anchor=\"middle\" x=\"27\" y=\"-806.3\" font-family=\"Times New Roman,serif\" font-size=\"14.00\">6</text>\n",
       "</g>\n",
       "<!-- 4&#45;&gt;6 -->\n",
       "<g id=\"edge3\" class=\"edge\">\n",
       "<title>4&#45;&gt;6</title>\n",
       "<path fill=\"none\" stroke=\"black\" d=\"M27,-863.7C27,-856.41 27,-847.73 27,-839.54\"/>\n",
       "<polygon fill=\"black\" stroke=\"black\" points=\"30.5,-839.62 27,-829.62 23.5,-839.62 30.5,-839.62\"/>\n",
       "</g>\n",
       "<!-- 14 -->\n",
       "<g id=\"node5\" class=\"node\">\n",
       "<title>14</title>\n",
       "<ellipse fill=\"none\" stroke=\"black\" cx=\"27\" cy=\"-738\" rx=\"27\" ry=\"18\"/>\n",
       "<text text-anchor=\"middle\" x=\"27\" y=\"-734.3\" font-family=\"Times New Roman,serif\" font-size=\"14.00\">14</text>\n",
       "</g>\n",
       "<!-- 6&#45;&gt;14 -->\n",
       "<g id=\"edge4\" class=\"edge\">\n",
       "<title>6&#45;&gt;14</title>\n",
       "<path fill=\"none\" stroke=\"black\" d=\"M27,-791.7C27,-784.41 27,-775.73 27,-767.54\"/>\n",
       "<polygon fill=\"black\" stroke=\"black\" points=\"30.5,-767.62 27,-757.62 23.5,-767.62 30.5,-767.62\"/>\n",
       "</g>\n",
       "<!-- 1 -->\n",
       "<g id=\"node6\" class=\"node\">\n",
       "<title>1</title>\n",
       "<ellipse fill=\"none\" stroke=\"black\" cx=\"27\" cy=\"-666\" rx=\"27\" ry=\"18\"/>\n",
       "<text text-anchor=\"middle\" x=\"27\" y=\"-662.3\" font-family=\"Times New Roman,serif\" font-size=\"14.00\">1</text>\n",
       "</g>\n",
       "<!-- 14&#45;&gt;1 -->\n",
       "<g id=\"edge5\" class=\"edge\">\n",
       "<title>14&#45;&gt;1</title>\n",
       "<path fill=\"none\" stroke=\"black\" d=\"M27,-719.7C27,-712.41 27,-703.73 27,-695.54\"/>\n",
       "<polygon fill=\"black\" stroke=\"black\" points=\"30.5,-695.62 27,-685.62 23.5,-695.62 30.5,-695.62\"/>\n",
       "</g>\n",
       "<!-- 8 -->\n",
       "<g id=\"node7\" class=\"node\">\n",
       "<title>8</title>\n",
       "<ellipse fill=\"none\" stroke=\"black\" cx=\"27\" cy=\"-594\" rx=\"27\" ry=\"18\"/>\n",
       "<text text-anchor=\"middle\" x=\"27\" y=\"-590.3\" font-family=\"Times New Roman,serif\" font-size=\"14.00\">8</text>\n",
       "</g>\n",
       "<!-- 1&#45;&gt;8 -->\n",
       "<g id=\"edge6\" class=\"edge\">\n",
       "<title>1&#45;&gt;8</title>\n",
       "<path fill=\"none\" stroke=\"black\" d=\"M27,-647.7C27,-640.41 27,-631.73 27,-623.54\"/>\n",
       "<polygon fill=\"black\" stroke=\"black\" points=\"30.5,-623.62 27,-613.62 23.5,-623.62 30.5,-623.62\"/>\n",
       "</g>\n",
       "<!-- 12 -->\n",
       "<g id=\"node8\" class=\"node\">\n",
       "<title>12</title>\n",
       "<ellipse fill=\"none\" stroke=\"black\" cx=\"27\" cy=\"-522\" rx=\"27\" ry=\"18\"/>\n",
       "<text text-anchor=\"middle\" x=\"27\" y=\"-518.3\" font-family=\"Times New Roman,serif\" font-size=\"14.00\">12</text>\n",
       "</g>\n",
       "<!-- 8&#45;&gt;12 -->\n",
       "<g id=\"edge7\" class=\"edge\">\n",
       "<title>8&#45;&gt;12</title>\n",
       "<path fill=\"none\" stroke=\"black\" d=\"M27,-575.7C27,-568.41 27,-559.73 27,-551.54\"/>\n",
       "<polygon fill=\"black\" stroke=\"black\" points=\"30.5,-551.62 27,-541.62 23.5,-551.62 30.5,-551.62\"/>\n",
       "</g>\n",
       "<!-- 0 -->\n",
       "<g id=\"node9\" class=\"node\">\n",
       "<title>0</title>\n",
       "<ellipse fill=\"none\" stroke=\"black\" cx=\"27\" cy=\"-450\" rx=\"27\" ry=\"18\"/>\n",
       "<text text-anchor=\"middle\" x=\"27\" y=\"-446.3\" font-family=\"Times New Roman,serif\" font-size=\"14.00\">0</text>\n",
       "</g>\n",
       "<!-- 12&#45;&gt;0 -->\n",
       "<g id=\"edge8\" class=\"edge\">\n",
       "<title>12&#45;&gt;0</title>\n",
       "<path fill=\"none\" stroke=\"black\" d=\"M27,-503.7C27,-496.41 27,-487.73 27,-479.54\"/>\n",
       "<polygon fill=\"black\" stroke=\"black\" points=\"30.5,-479.62 27,-469.62 23.5,-479.62 30.5,-479.62\"/>\n",
       "</g>\n",
       "<!-- 11 -->\n",
       "<g id=\"node10\" class=\"node\">\n",
       "<title>11</title>\n",
       "<ellipse fill=\"none\" stroke=\"black\" cx=\"27\" cy=\"-378\" rx=\"27\" ry=\"18\"/>\n",
       "<text text-anchor=\"middle\" x=\"27\" y=\"-374.3\" font-family=\"Times New Roman,serif\" font-size=\"14.00\">11</text>\n",
       "</g>\n",
       "<!-- 0&#45;&gt;11 -->\n",
       "<g id=\"edge9\" class=\"edge\">\n",
       "<title>0&#45;&gt;11</title>\n",
       "<path fill=\"none\" stroke=\"black\" d=\"M27,-431.7C27,-424.41 27,-415.73 27,-407.54\"/>\n",
       "<polygon fill=\"black\" stroke=\"black\" points=\"30.5,-407.62 27,-397.62 23.5,-407.62 30.5,-407.62\"/>\n",
       "</g>\n",
       "<!-- 5 -->\n",
       "<g id=\"node11\" class=\"node\">\n",
       "<title>5</title>\n",
       "<ellipse fill=\"none\" stroke=\"black\" cx=\"27\" cy=\"-306\" rx=\"27\" ry=\"18\"/>\n",
       "<text text-anchor=\"middle\" x=\"27\" y=\"-302.3\" font-family=\"Times New Roman,serif\" font-size=\"14.00\">5</text>\n",
       "</g>\n",
       "<!-- 11&#45;&gt;5 -->\n",
       "<g id=\"edge10\" class=\"edge\">\n",
       "<title>11&#45;&gt;5</title>\n",
       "<path fill=\"none\" stroke=\"black\" d=\"M27,-359.7C27,-352.41 27,-343.73 27,-335.54\"/>\n",
       "<polygon fill=\"black\" stroke=\"black\" points=\"30.5,-335.62 27,-325.62 23.5,-335.62 30.5,-335.62\"/>\n",
       "</g>\n",
       "<!-- 10 -->\n",
       "<g id=\"node12\" class=\"node\">\n",
       "<title>10</title>\n",
       "<ellipse fill=\"none\" stroke=\"black\" cx=\"27\" cy=\"-234\" rx=\"27\" ry=\"18\"/>\n",
       "<text text-anchor=\"middle\" x=\"27\" y=\"-230.3\" font-family=\"Times New Roman,serif\" font-size=\"14.00\">10</text>\n",
       "</g>\n",
       "<!-- 5&#45;&gt;10 -->\n",
       "<g id=\"edge11\" class=\"edge\">\n",
       "<title>5&#45;&gt;10</title>\n",
       "<path fill=\"none\" stroke=\"black\" d=\"M27,-287.7C27,-280.41 27,-271.73 27,-263.54\"/>\n",
       "<polygon fill=\"black\" stroke=\"black\" points=\"30.5,-263.62 27,-253.62 23.5,-263.62 30.5,-263.62\"/>\n",
       "</g>\n",
       "<!-- 7 -->\n",
       "<g id=\"node13\" class=\"node\">\n",
       "<title>7</title>\n",
       "<ellipse fill=\"none\" stroke=\"black\" cx=\"27\" cy=\"-162\" rx=\"27\" ry=\"18\"/>\n",
       "<text text-anchor=\"middle\" x=\"27\" y=\"-158.3\" font-family=\"Times New Roman,serif\" font-size=\"14.00\">7</text>\n",
       "</g>\n",
       "<!-- 10&#45;&gt;7 -->\n",
       "<g id=\"edge12\" class=\"edge\">\n",
       "<title>10&#45;&gt;7</title>\n",
       "<path fill=\"none\" stroke=\"black\" d=\"M27,-215.7C27,-208.41 27,-199.73 27,-191.54\"/>\n",
       "<polygon fill=\"black\" stroke=\"black\" points=\"30.5,-191.62 27,-181.62 23.5,-191.62 30.5,-191.62\"/>\n",
       "</g>\n",
       "<!-- 13 -->\n",
       "<g id=\"node14\" class=\"node\">\n",
       "<title>13</title>\n",
       "<ellipse fill=\"none\" stroke=\"black\" cx=\"27\" cy=\"-90\" rx=\"27\" ry=\"18\"/>\n",
       "<text text-anchor=\"middle\" x=\"27\" y=\"-86.3\" font-family=\"Times New Roman,serif\" font-size=\"14.00\">13</text>\n",
       "</g>\n",
       "<!-- 7&#45;&gt;13 -->\n",
       "<g id=\"edge13\" class=\"edge\">\n",
       "<title>7&#45;&gt;13</title>\n",
       "<path fill=\"none\" stroke=\"black\" d=\"M27,-143.7C27,-136.41 27,-127.73 27,-119.54\"/>\n",
       "<polygon fill=\"black\" stroke=\"black\" points=\"30.5,-119.62 27,-109.62 23.5,-119.62 30.5,-119.62\"/>\n",
       "</g>\n",
       "<!-- 3 -->\n",
       "<g id=\"node15\" class=\"node\">\n",
       "<title>3</title>\n",
       "<ellipse fill=\"none\" stroke=\"black\" cx=\"27\" cy=\"-18\" rx=\"27\" ry=\"18\"/>\n",
       "<text text-anchor=\"middle\" x=\"27\" y=\"-14.3\" font-family=\"Times New Roman,serif\" font-size=\"14.00\">3</text>\n",
       "</g>\n",
       "<!-- 13&#45;&gt;3 -->\n",
       "<g id=\"edge14\" class=\"edge\">\n",
       "<title>13&#45;&gt;3</title>\n",
       "<path fill=\"none\" stroke=\"black\" d=\"M27,-71.7C27,-64.41 27,-55.73 27,-47.54\"/>\n",
       "<polygon fill=\"black\" stroke=\"black\" points=\"30.5,-47.62 27,-37.62 23.5,-47.62 30.5,-47.62\"/>\n",
       "</g>\n",
       "</g>\n",
       "</svg>\n"
      ],
      "text/plain": [
       "<graphviz.graphs.Digraph at 0x1940d00de10>"
      ]
     },
     "execution_count": 61,
     "metadata": {},
     "output_type": "execute_result"
    }
   ],
   "source": [
    "import graphviz\n",
    "f = graphviz.Digraph()\n",
    "for _, n in phi:\n",
    "    f.node(str(n))\n",
    "for i in range(len(phi)-1):\n",
    "    f.edge(str(phi[i][1]), str(phi[i+1][1]))\n",
    "f"
   ]
  },
  {
   "cell_type": "code",
   "execution_count": 55,
   "id": "6ead36c2",
   "metadata": {},
   "outputs": [
    {
     "data": {
      "text/html": [
       "<div>\n",
       "<style scoped>\n",
       "    .dataframe tbody tr th:only-of-type {\n",
       "        vertical-align: middle;\n",
       "    }\n",
       "\n",
       "    .dataframe tbody tr th {\n",
       "        vertical-align: top;\n",
       "    }\n",
       "\n",
       "    .dataframe thead th {\n",
       "        text-align: right;\n",
       "    }\n",
       "</style>\n",
       "<table border=\"1\" class=\"dataframe\">\n",
       "  <thead>\n",
       "    <tr style=\"text-align: right;\">\n",
       "      <th></th>\n",
       "      <th>mpg</th>\n",
       "      <th>horsepower</th>\n",
       "      <th>weight</th>\n",
       "      <th>acceleration</th>\n",
       "      <th>price</th>\n",
       "    </tr>\n",
       "  </thead>\n",
       "  <tbody>\n",
       "    <tr>\n",
       "      <th>0</th>\n",
       "      <td>24.0</td>\n",
       "      <td>110</td>\n",
       "      <td>2660</td>\n",
       "      <td>14.0</td>\n",
       "      <td>30000.00000</td>\n",
       "    </tr>\n",
       "    <tr>\n",
       "      <th>1</th>\n",
       "      <td>36.0</td>\n",
       "      <td>75</td>\n",
       "      <td>2205</td>\n",
       "      <td>14.5</td>\n",
       "      <td>30000.00000</td>\n",
       "    </tr>\n",
       "    <tr>\n",
       "      <th>2</th>\n",
       "      <td>34.1</td>\n",
       "      <td>65</td>\n",
       "      <td>1975</td>\n",
       "      <td>15.2</td>\n",
       "      <td>20000.00000</td>\n",
       "    </tr>\n",
       "    <tr>\n",
       "      <th>3</th>\n",
       "      <td>26.8</td>\n",
       "      <td>115</td>\n",
       "      <td>2700</td>\n",
       "      <td>12.9</td>\n",
       "      <td>45923.53551</td>\n",
       "    </tr>\n",
       "    <tr>\n",
       "      <th>4</th>\n",
       "      <td>36.0</td>\n",
       "      <td>84</td>\n",
       "      <td>2370</td>\n",
       "      <td>13.0</td>\n",
       "      <td>17421.62690</td>\n",
       "    </tr>\n",
       "  </tbody>\n",
       "</table>\n",
       "</div>"
      ],
      "text/plain": [
       "    mpg  horsepower  weight  acceleration        price\n",
       "0  24.0         110    2660          14.0  30000.00000\n",
       "1  36.0          75    2205          14.5  30000.00000\n",
       "2  34.1          65    1975          15.2  20000.00000\n",
       "3  26.8         115    2700          12.9  45923.53551\n",
       "4  36.0          84    2370          13.0  17421.62690"
      ]
     },
     "execution_count": 55,
     "metadata": {},
     "output_type": "execute_result"
    }
   ],
   "source": [
    "df"
   ]
  },
  {
   "cell_type": "code",
   "execution_count": null,
   "id": "03839aa2",
   "metadata": {},
   "outputs": [],
   "source": []
  }
 ],
 "metadata": {
  "kernelspec": {
   "display_name": "Python 3 (ipykernel)",
   "language": "python",
   "name": "python3"
  },
  "language_info": {
   "codemirror_mode": {
    "name": "ipython",
    "version": 3
   },
   "file_extension": ".py",
   "mimetype": "text/x-python",
   "name": "python",
   "nbconvert_exporter": "python",
   "pygments_lexer": "ipython3",
   "version": "3.10.5"
  }
 },
 "nbformat": 4,
 "nbformat_minor": 5
}
